{
 "cells": [
  {
   "cell_type": "markdown",
   "id": "adapted-presence",
   "metadata": {},
   "source": [
    "# ADS-502 Final Project: Heart Disease Detection"
   ]
  },
  {
   "cell_type": "markdown",
   "id": "exact-touch",
   "metadata": {},
   "source": [
    "## Group #2\n",
    "- Nava Roohi\n",
    "- Angela Zhang\n",
    "- Nhan (Jimmy) Nguyen"
   ]
  },
  {
   "cell_type": "markdown",
   "id": "electric-executive",
   "metadata": {},
   "source": [
    "------\n",
    "## The Data Science Methodology/ Data Mining Process\n",
    "1.  **Problem Understanding/ Data Understanding Phase** \n",
    "2. **Data Preparation Phase**\n",
    "3. **Exploratory Data Analysis Phase** \n",
    "4. **Setup Phase**\n",
    "5. **Modeling Phase** \n",
    "6. **Evaluation Phase** "
   ]
  },
  {
   "cell_type": "markdown",
   "id": "temporal-action",
   "metadata": {},
   "source": [
    "-----\n",
    "### 1. Problem Understanding Phase\n",
    "Business Understanding\n",
    "\n",
    "**i.Determine business objectives**\n",
    "    \n",
    "1. The business objective of this project is to build a classifier that will be able to accurately detect heart disease in patients.\n",
    "2. Using the information in the data set, we want to analyze relationships between variables and having heart disease. This will provide insight on which key variables is associated with heart disease. \n",
    "3. We want to take a closer look at patients who are correctly predicted as having heart disease to better understand symptoms and detect early signs we may be able to flag. \n",
    "4. By identifying patients who will likely be diagnose with heart disease before its too late, physicians may be able save significant lives. \n",
    "5. We can reduce the number of deaths caused by heart diseases.\n",
    "        \n",
    "**ii. Background** \n",
    " 1. Heart disease has been responsible for millions of deaths each year among the world. In fact, health problems associated with the heart have become the leading cause of death in the past decades for both males and females. According to the Disease Control and Prevention Center, about 61,000 people die of heart disease in the United States annually that is 1 in every 4 deaths. Heart disease is one of the biggest concerns and having the capability to accurately detect heart disease would be extremely essential. So we will use data mining techniques and algorithms to predict heart disease. Heart disease detection will be advantageous and insightful, so that health professionals can take the proper action ahead of time for earlier treatments leading to prevention.\n",
    "        \n",
    "**iii. Business success criteria** \n",
    " 1. Reduce the number of deaths caused by heart diseases by building a classification model \n",
    "    \n",
    " **iv. Inventory of resources** \n",
    "1. Data dictionary available in folder (Terminology)\n",
    "\n",
    "\n",
    "2. Sample Research paper in folder\n",
    "\n",
    "\n",
    "3. Direct data resource: https://archive.ics.uci.edu/ml/datasets/heart+disease \n",
    "\n",
    "\n",
    "4. Secondary data resource: https://www.kaggle.com/ronitf/heart-disease-uci \n",
    "\n",
    "\n",
    "\n",
    "**v. Risks and Contingencies** \n",
    "1. Be careful for outliers\n",
    "\n",
    "\n",
    "2. Be careful for high dimensionality \n",
    "\n",
    "\n",
    "3. No missing values \n",
    "\n",
    "\n",
    "4. Is there a need to convert dummy variables or discretization?\n",
    "\n",
    "\n",
    "\n",
    "**vi. Determine Data Mining Goals**\n",
    "1. Data mining problem type: binary classification\n",
    "    1. Models we are allowed to used:  _Gaussian Naive Bayes, Logistic Regression, Random Forests_\n",
    "    \n",
    "    \n",
    "2. Data mining Outputs requires results to be\n",
    "    1. Positive Class label = ‘1’ – presence of heart disease\n",
    "    2. Negative Class label = ‘0’ – absence of heart disease \n",
    "    \n",
    "            \n",
    "**vii.  Data Mining success criteria**\n",
    "1. A good measure of the Harmonic Mean – F1 Score\n",
    "    1. Good performance with Precision\n",
    "    2. Good performance with Recall\n",
    "    3. Needs to beat baseline model accuracy (all negative model)\n",
    "    \n"
   ]
  },
  {
   "cell_type": "markdown",
   "id": "unlimited-ebony",
   "metadata": {},
   "source": [
    "------\n",
    "### 2. Data Preparation Phase"
   ]
  },
  {
   "cell_type": "markdown",
   "id": "vocational-affairs",
   "metadata": {},
   "source": [
    "#### 2.1 Packages"
   ]
  },
  {
   "cell_type": "code",
   "execution_count": 1,
   "id": "fifth-pakistan",
   "metadata": {},
   "outputs": [],
   "source": [
    "import pandas as pd # pandas package \n",
    "import numpy as np # numpy package\n",
    "import matplotlib.pyplot as plt # matplotlib package\n",
    "import seaborn as sns # seaborn package\n",
    "from math import * # math package\n",
    "from sklearn.model_selection import train_test_split # train test split\n",
    "from scipy.stats import ttest_ind # t test package\n",
    "from scipy.stats import norm # norm package\n",
    "from sklearn.metrics import * # import model evaluation package\n",
    "from sklearn.naive_bayes import GaussianNB # import gaussian naive bayes model \n",
    "from sklearn.linear_model import LogisticRegression # logistic regression model\n",
    "from sklearn.ensemble import RandomForestClassifier # random forest model\n",
    "from sklearn.preprocessing import MinMaxScaler # import standardization package\n",
    "from sklearn.model_selection import cross_val_score # cross validation\n",
    "from sklearn.model_selection import KFold # number k runs\n",
    "from sklearn.metrics import confusion_matrix # confusion matrix\n",
    "import warnings # warnings package\n",
    "warnings.filterwarnings('ignore') # hide warnings\n",
    "%matplotlib inline  \n",
    "plt.style.use('seaborn') # use seaborn style for plots"
   ]
  },
  {
   "cell_type": "markdown",
   "id": "julian-solid",
   "metadata": {},
   "source": [
    "#### 2.2 Dataset"
   ]
  },
  {
   "cell_type": "code",
   "execution_count": 2,
   "id": "immediate-style",
   "metadata": {},
   "outputs": [
    {
     "data": {
      "text/html": [
       "<div>\n",
       "<style scoped>\n",
       "    .dataframe tbody tr th:only-of-type {\n",
       "        vertical-align: middle;\n",
       "    }\n",
       "\n",
       "    .dataframe tbody tr th {\n",
       "        vertical-align: top;\n",
       "    }\n",
       "\n",
       "    .dataframe thead th {\n",
       "        text-align: right;\n",
       "    }\n",
       "</style>\n",
       "<table border=\"1\" class=\"dataframe\">\n",
       "  <thead>\n",
       "    <tr style=\"text-align: right;\">\n",
       "      <th></th>\n",
       "      <th>age</th>\n",
       "      <th>sex</th>\n",
       "      <th>cp</th>\n",
       "      <th>trestbps</th>\n",
       "      <th>chol</th>\n",
       "      <th>fbs</th>\n",
       "      <th>restecg</th>\n",
       "      <th>thalach</th>\n",
       "      <th>exang</th>\n",
       "      <th>oldpeak</th>\n",
       "      <th>slope</th>\n",
       "      <th>ca</th>\n",
       "      <th>thal</th>\n",
       "      <th>target</th>\n",
       "    </tr>\n",
       "  </thead>\n",
       "  <tbody>\n",
       "    <tr>\n",
       "      <th>0</th>\n",
       "      <td>63</td>\n",
       "      <td>1</td>\n",
       "      <td>3</td>\n",
       "      <td>145</td>\n",
       "      <td>233</td>\n",
       "      <td>1</td>\n",
       "      <td>0</td>\n",
       "      <td>150</td>\n",
       "      <td>0</td>\n",
       "      <td>2.3</td>\n",
       "      <td>0</td>\n",
       "      <td>0</td>\n",
       "      <td>1</td>\n",
       "      <td>1</td>\n",
       "    </tr>\n",
       "    <tr>\n",
       "      <th>1</th>\n",
       "      <td>37</td>\n",
       "      <td>1</td>\n",
       "      <td>2</td>\n",
       "      <td>130</td>\n",
       "      <td>250</td>\n",
       "      <td>0</td>\n",
       "      <td>1</td>\n",
       "      <td>187</td>\n",
       "      <td>0</td>\n",
       "      <td>3.5</td>\n",
       "      <td>0</td>\n",
       "      <td>0</td>\n",
       "      <td>2</td>\n",
       "      <td>1</td>\n",
       "    </tr>\n",
       "    <tr>\n",
       "      <th>2</th>\n",
       "      <td>41</td>\n",
       "      <td>0</td>\n",
       "      <td>1</td>\n",
       "      <td>130</td>\n",
       "      <td>204</td>\n",
       "      <td>0</td>\n",
       "      <td>0</td>\n",
       "      <td>172</td>\n",
       "      <td>0</td>\n",
       "      <td>1.4</td>\n",
       "      <td>2</td>\n",
       "      <td>0</td>\n",
       "      <td>2</td>\n",
       "      <td>1</td>\n",
       "    </tr>\n",
       "    <tr>\n",
       "      <th>3</th>\n",
       "      <td>56</td>\n",
       "      <td>1</td>\n",
       "      <td>1</td>\n",
       "      <td>120</td>\n",
       "      <td>236</td>\n",
       "      <td>0</td>\n",
       "      <td>1</td>\n",
       "      <td>178</td>\n",
       "      <td>0</td>\n",
       "      <td>0.8</td>\n",
       "      <td>2</td>\n",
       "      <td>0</td>\n",
       "      <td>2</td>\n",
       "      <td>1</td>\n",
       "    </tr>\n",
       "    <tr>\n",
       "      <th>4</th>\n",
       "      <td>57</td>\n",
       "      <td>0</td>\n",
       "      <td>0</td>\n",
       "      <td>120</td>\n",
       "      <td>354</td>\n",
       "      <td>0</td>\n",
       "      <td>1</td>\n",
       "      <td>163</td>\n",
       "      <td>1</td>\n",
       "      <td>0.6</td>\n",
       "      <td>2</td>\n",
       "      <td>0</td>\n",
       "      <td>2</td>\n",
       "      <td>1</td>\n",
       "    </tr>\n",
       "  </tbody>\n",
       "</table>\n",
       "</div>"
      ],
      "text/plain": [
       "   age  sex  cp  trestbps  chol  fbs  restecg  thalach  exang  oldpeak  slope  \\\n",
       "0   63    1   3       145   233    1        0      150      0      2.3      0   \n",
       "1   37    1   2       130   250    0        1      187      0      3.5      0   \n",
       "2   41    0   1       130   204    0        0      172      0      1.4      2   \n",
       "3   56    1   1       120   236    0        1      178      0      0.8      2   \n",
       "4   57    0   0       120   354    0        1      163      1      0.6      2   \n",
       "\n",
       "   ca  thal  target  \n",
       "0   0     1       1  \n",
       "1   0     2       1  \n",
       "2   0     2       1  \n",
       "3   0     2       1  \n",
       "4   0     2       1  "
      ]
     },
     "execution_count": 2,
     "metadata": {},
     "output_type": "execute_result"
    }
   ],
   "source": [
    "df = pd.read_csv(\"heart.csv\") # original data\n",
    "df.head() # show first rows"
   ]
  },
  {
   "cell_type": "markdown",
   "id": "closed-anatomy",
   "metadata": {},
   "source": [
    "#### 2.3 Data Report "
   ]
  },
  {
   "cell_type": "markdown",
   "id": "junior-boston",
   "metadata": {},
   "source": [
    "- **Continuous Features**"
   ]
  },
  {
   "cell_type": "code",
   "execution_count": 3,
   "id": "western-organization",
   "metadata": {},
   "outputs": [
    {
     "data": {
      "text/html": [
       "<div>\n",
       "<style scoped>\n",
       "    .dataframe tbody tr th:only-of-type {\n",
       "        vertical-align: middle;\n",
       "    }\n",
       "\n",
       "    .dataframe tbody tr th {\n",
       "        vertical-align: top;\n",
       "    }\n",
       "\n",
       "    .dataframe thead th {\n",
       "        text-align: right;\n",
       "    }\n",
       "</style>\n",
       "<table border=\"1\" class=\"dataframe\">\n",
       "  <thead>\n",
       "    <tr style=\"text-align: right;\">\n",
       "      <th></th>\n",
       "      <th>Feature</th>\n",
       "      <th>Count</th>\n",
       "      <th>Miss. %</th>\n",
       "      <th>Card</th>\n",
       "      <th>Min</th>\n",
       "      <th>1st Qrt.</th>\n",
       "      <th>Mean</th>\n",
       "      <th>Median</th>\n",
       "      <th>3rd Qrt.</th>\n",
       "      <th>Max</th>\n",
       "      <th>Std Dev.</th>\n",
       "    </tr>\n",
       "  </thead>\n",
       "  <tbody>\n",
       "    <tr>\n",
       "      <th>0</th>\n",
       "      <td>age</td>\n",
       "      <td>303</td>\n",
       "      <td>0.0</td>\n",
       "      <td>41</td>\n",
       "      <td>29</td>\n",
       "      <td>47.5</td>\n",
       "      <td>54.37</td>\n",
       "      <td>55.0</td>\n",
       "      <td>61.0</td>\n",
       "      <td>77</td>\n",
       "      <td>9.08</td>\n",
       "    </tr>\n",
       "    <tr>\n",
       "      <th>1</th>\n",
       "      <td>trestbps</td>\n",
       "      <td>303</td>\n",
       "      <td>0.0</td>\n",
       "      <td>49</td>\n",
       "      <td>94</td>\n",
       "      <td>120.0</td>\n",
       "      <td>131.62</td>\n",
       "      <td>130.0</td>\n",
       "      <td>140.0</td>\n",
       "      <td>200</td>\n",
       "      <td>17.54</td>\n",
       "    </tr>\n",
       "    <tr>\n",
       "      <th>2</th>\n",
       "      <td>chol</td>\n",
       "      <td>303</td>\n",
       "      <td>0.0</td>\n",
       "      <td>152</td>\n",
       "      <td>126</td>\n",
       "      <td>211.0</td>\n",
       "      <td>246.26</td>\n",
       "      <td>240.0</td>\n",
       "      <td>274.5</td>\n",
       "      <td>564</td>\n",
       "      <td>51.83</td>\n",
       "    </tr>\n",
       "    <tr>\n",
       "      <th>3</th>\n",
       "      <td>thalach</td>\n",
       "      <td>303</td>\n",
       "      <td>0.0</td>\n",
       "      <td>91</td>\n",
       "      <td>71</td>\n",
       "      <td>133.5</td>\n",
       "      <td>149.65</td>\n",
       "      <td>153.0</td>\n",
       "      <td>166.0</td>\n",
       "      <td>202</td>\n",
       "      <td>22.91</td>\n",
       "    </tr>\n",
       "    <tr>\n",
       "      <th>4</th>\n",
       "      <td>oldpeak</td>\n",
       "      <td>303</td>\n",
       "      <td>0.0</td>\n",
       "      <td>40</td>\n",
       "      <td>0</td>\n",
       "      <td>0.0</td>\n",
       "      <td>1.04</td>\n",
       "      <td>0.8</td>\n",
       "      <td>1.6</td>\n",
       "      <td>6.2</td>\n",
       "      <td>1.16</td>\n",
       "    </tr>\n",
       "  </tbody>\n",
       "</table>\n",
       "</div>"
      ],
      "text/plain": [
       "    Feature Count  Miss. % Card  Min  1st Qrt.    Mean  Median  3rd Qrt.  Max  \\\n",
       "0       age   303      0.0   41   29      47.5   54.37    55.0      61.0   77   \n",
       "1  trestbps   303      0.0   49   94     120.0  131.62   130.0     140.0  200   \n",
       "2      chol   303      0.0  152  126     211.0  246.26   240.0     274.5  564   \n",
       "3   thalach   303      0.0   91   71     133.5  149.65   153.0     166.0  202   \n",
       "4   oldpeak   303      0.0   40    0       0.0    1.04     0.8       1.6  6.2   \n",
       "\n",
       "   Std Dev.  \n",
       "0      9.08  \n",
       "1     17.54  \n",
       "2     51.83  \n",
       "3     22.91  \n",
       "4      1.16  "
      ]
     },
     "execution_count": 3,
     "metadata": {},
     "output_type": "execute_result"
    }
   ],
   "source": [
    "def cont_data(df):\n",
    "    '''\n",
    "    This function takes in a dataframe as input and looks at the continuous variables to calculate \n",
    "    the percentage of missing values, the cardinality, the lowest values, the highest values,\n",
    "    mean, median, and etc.\n",
    "    '''\n",
    "\n",
    "    colnames = ['Feature', 'Count', 'Miss. %', 'Card', 'Min',\n",
    "                '1st Qrt.', 'Mean', 'Median', '3rd Qrt.', 'Max', 'Std Dev.']\n",
    "    data_table = pd.DataFrame(columns = colnames)\n",
    "    features = list(df.columns)\n",
    "    for i in features:\n",
    "        feature = i #feature name \n",
    "        count = len(df[feature]) # number of rows\n",
    "        miss = df[feature].isnull().sum()/count  # number of missing values as percentage\n",
    "        card = len(df[feature].unique()) # cardinality \n",
    "        min_value = df[feature].min()\n",
    "        first_qrt = df[feature].quantile([0.25]).values[0] # first quantitle\n",
    "        mean = round(df[feature].mean(),2) # mean\n",
    "        median = df[feature].median() # median\n",
    "        third_qrt = df[feature].quantile([0.75]).values[0] # third quantile \n",
    "        max_value = df[feature].max() # max value\n",
    "        std_value = round(df[feature].std(ddof=1),2) # standard deviation\n",
    "        rows = [feature, count, miss, card, min_value, first_qrt, mean, median, third_qrt, max_value, std_value]\n",
    "        data_table_length = len(data_table)\n",
    "        data_table.loc[data_table_length] = rows\n",
    "    return data_table\n",
    "\n",
    "cont_feat = ['age', 'trestbps', 'chol', 'thalach', 'oldpeak'] # continuous variables\n",
    "cont_df = df[cont_feat] # select these columns only\n",
    "continuous_data = cont_data(cont_df) # perform function on data frame\n",
    "continuous_data # print data frame"
   ]
  },
  {
   "cell_type": "markdown",
   "id": "congressional-booth",
   "metadata": {},
   "source": [
    "- **Categorical Features**"
   ]
  },
  {
   "cell_type": "code",
   "execution_count": 4,
   "id": "proved-substance",
   "metadata": {},
   "outputs": [
    {
     "data": {
      "text/html": [
       "<div>\n",
       "<style scoped>\n",
       "    .dataframe tbody tr th:only-of-type {\n",
       "        vertical-align: middle;\n",
       "    }\n",
       "\n",
       "    .dataframe tbody tr th {\n",
       "        vertical-align: top;\n",
       "    }\n",
       "\n",
       "    .dataframe thead th {\n",
       "        text-align: right;\n",
       "    }\n",
       "</style>\n",
       "<table border=\"1\" class=\"dataframe\">\n",
       "  <thead>\n",
       "    <tr style=\"text-align: right;\">\n",
       "      <th></th>\n",
       "      <th>Feature</th>\n",
       "      <th>Count</th>\n",
       "      <th>Miss. %</th>\n",
       "      <th>Card</th>\n",
       "      <th>Mode</th>\n",
       "      <th>Mode Freq.</th>\n",
       "      <th>Mode %</th>\n",
       "      <th>2nd Mode</th>\n",
       "      <th>2nd Mode Freq</th>\n",
       "      <th>2nd Mode %</th>\n",
       "    </tr>\n",
       "  </thead>\n",
       "  <tbody>\n",
       "    <tr>\n",
       "      <th>0</th>\n",
       "      <td>ca</td>\n",
       "      <td>303</td>\n",
       "      <td>0.0</td>\n",
       "      <td>5</td>\n",
       "      <td>0</td>\n",
       "      <td>175</td>\n",
       "      <td>0.58</td>\n",
       "      <td>1</td>\n",
       "      <td>65</td>\n",
       "      <td>0.21</td>\n",
       "    </tr>\n",
       "    <tr>\n",
       "      <th>1</th>\n",
       "      <td>cp</td>\n",
       "      <td>303</td>\n",
       "      <td>0.0</td>\n",
       "      <td>4</td>\n",
       "      <td>0</td>\n",
       "      <td>143</td>\n",
       "      <td>0.47</td>\n",
       "      <td>2</td>\n",
       "      <td>87</td>\n",
       "      <td>0.29</td>\n",
       "    </tr>\n",
       "    <tr>\n",
       "      <th>2</th>\n",
       "      <td>exang</td>\n",
       "      <td>303</td>\n",
       "      <td>0.0</td>\n",
       "      <td>2</td>\n",
       "      <td>0</td>\n",
       "      <td>204</td>\n",
       "      <td>0.67</td>\n",
       "      <td>1</td>\n",
       "      <td>99</td>\n",
       "      <td>0.33</td>\n",
       "    </tr>\n",
       "    <tr>\n",
       "      <th>3</th>\n",
       "      <td>fbs</td>\n",
       "      <td>303</td>\n",
       "      <td>0.0</td>\n",
       "      <td>2</td>\n",
       "      <td>0</td>\n",
       "      <td>258</td>\n",
       "      <td>0.85</td>\n",
       "      <td>1</td>\n",
       "      <td>45</td>\n",
       "      <td>0.15</td>\n",
       "    </tr>\n",
       "    <tr>\n",
       "      <th>4</th>\n",
       "      <td>restecg</td>\n",
       "      <td>303</td>\n",
       "      <td>0.0</td>\n",
       "      <td>3</td>\n",
       "      <td>1</td>\n",
       "      <td>152</td>\n",
       "      <td>0.50</td>\n",
       "      <td>0</td>\n",
       "      <td>147</td>\n",
       "      <td>0.49</td>\n",
       "    </tr>\n",
       "    <tr>\n",
       "      <th>5</th>\n",
       "      <td>sex</td>\n",
       "      <td>303</td>\n",
       "      <td>0.0</td>\n",
       "      <td>2</td>\n",
       "      <td>1</td>\n",
       "      <td>207</td>\n",
       "      <td>0.68</td>\n",
       "      <td>0</td>\n",
       "      <td>96</td>\n",
       "      <td>0.32</td>\n",
       "    </tr>\n",
       "    <tr>\n",
       "      <th>6</th>\n",
       "      <td>slope</td>\n",
       "      <td>303</td>\n",
       "      <td>0.0</td>\n",
       "      <td>3</td>\n",
       "      <td>2</td>\n",
       "      <td>142</td>\n",
       "      <td>0.47</td>\n",
       "      <td>1</td>\n",
       "      <td>140</td>\n",
       "      <td>0.46</td>\n",
       "    </tr>\n",
       "    <tr>\n",
       "      <th>7</th>\n",
       "      <td>target</td>\n",
       "      <td>303</td>\n",
       "      <td>0.0</td>\n",
       "      <td>2</td>\n",
       "      <td>1</td>\n",
       "      <td>165</td>\n",
       "      <td>0.54</td>\n",
       "      <td>0</td>\n",
       "      <td>138</td>\n",
       "      <td>0.46</td>\n",
       "    </tr>\n",
       "    <tr>\n",
       "      <th>8</th>\n",
       "      <td>thal</td>\n",
       "      <td>303</td>\n",
       "      <td>0.0</td>\n",
       "      <td>4</td>\n",
       "      <td>2</td>\n",
       "      <td>166</td>\n",
       "      <td>0.55</td>\n",
       "      <td>3</td>\n",
       "      <td>117</td>\n",
       "      <td>0.39</td>\n",
       "    </tr>\n",
       "  </tbody>\n",
       "</table>\n",
       "</div>"
      ],
      "text/plain": [
       "   Feature Count  Miss. % Card Mode Mode Freq.  Mode % 2nd Mode 2nd Mode Freq  \\\n",
       "0       ca   303      0.0    5    0        175    0.58        1            65   \n",
       "1       cp   303      0.0    4    0        143    0.47        2            87   \n",
       "2    exang   303      0.0    2    0        204    0.67        1            99   \n",
       "3      fbs   303      0.0    2    0        258    0.85        1            45   \n",
       "4  restecg   303      0.0    3    1        152    0.50        0           147   \n",
       "5      sex   303      0.0    2    1        207    0.68        0            96   \n",
       "6    slope   303      0.0    3    2        142    0.47        1           140   \n",
       "7   target   303      0.0    2    1        165    0.54        0           138   \n",
       "8     thal   303      0.0    4    2        166    0.55        3           117   \n",
       "\n",
       "   2nd Mode %  \n",
       "0        0.21  \n",
       "1        0.29  \n",
       "2        0.33  \n",
       "3        0.15  \n",
       "4        0.49  \n",
       "5        0.32  \n",
       "6        0.46  \n",
       "7        0.46  \n",
       "8        0.39  "
      ]
     },
     "execution_count": 4,
     "metadata": {},
     "output_type": "execute_result"
    }
   ],
   "source": [
    "def cat_data(df):\n",
    "    '''\n",
    "    This functions takes in a dataframe and calculates the count, percentage of missing values\n",
    "    cardinality, mode, mode frequency, and etc for categorical variables\n",
    "    '''\n",
    "    colnames = ['Feature', 'Count', 'Miss. %', 'Card', 'Mode', \n",
    "                'Mode Freq.', 'Mode %', '2nd Mode', '2nd Mode Freq', '2nd Mode %']\n",
    "    data_table = pd.DataFrame(columns = colnames)\n",
    "    features = list(df.columns)\n",
    "    for i in features:\n",
    "        feature = i #feature name \n",
    "        count = len(df[feature]) # number of rows\n",
    "        miss = df[feature].isnull().sum()/count  # number of missing values as percentage\n",
    "        card = len(df[feature].unique()) # cardinality \n",
    "        mode = list(df[feature].value_counts().sort_values(ascending = False).index)[0]# most common value\n",
    "        mode_frq = list(df[feature].value_counts().sort_values(ascending = False))[0] # counts of most common value\n",
    "        mode_pct = round(mode_frq/len(df[feature]),2) # percentage of most common value \n",
    "        snd_mode = list(df[feature].value_counts().sort_values(ascending = False).index)[1] # Second most common value\n",
    "        snd_mode_frq = list(df[feature].value_counts().sort_values(ascending = False))[1] # counts of second-most common value\n",
    "        snd_mode_pct = round(snd_mode_frq/len(df[feature]),2) # percentage of second- most common value\n",
    "        rows = [feature, count, miss, card, mode, mode_frq, mode_pct, snd_mode, snd_mode_frq, snd_mode_pct] # compile variables as a list\n",
    "        data_table_length = len(data_table) # count the current row of table\n",
    "        data_table.loc[data_table_length] = rows # add each feature as a row\n",
    "    return data_table # return as dataframe \n",
    "\n",
    "cat_feat = list(df.columns.difference(df[cont_feat].columns)) # find categorical columns\n",
    "cat_df = df[cat_feat] # select these categorical columns as a new data frame\n",
    "\n",
    "categorical_data = cat_data(cat_df) # call function on categorical data frame\n",
    "categorical_data # print categorical calculations"
   ]
  },
  {
   "cell_type": "markdown",
   "id": "serial-intake",
   "metadata": {},
   "source": [
    "#### 2.4 Identify Outliers"
   ]
  },
  {
   "cell_type": "code",
   "execution_count": 5,
   "id": "sporting-disabled",
   "metadata": {},
   "outputs": [
    {
     "data": {
      "text/html": [
       "<div>\n",
       "<style scoped>\n",
       "    .dataframe tbody tr th:only-of-type {\n",
       "        vertical-align: middle;\n",
       "    }\n",
       "\n",
       "    .dataframe tbody tr th {\n",
       "        vertical-align: top;\n",
       "    }\n",
       "\n",
       "    .dataframe thead th {\n",
       "        text-align: right;\n",
       "    }\n",
       "</style>\n",
       "<table border=\"1\" class=\"dataframe\">\n",
       "  <thead>\n",
       "    <tr style=\"text-align: right;\">\n",
       "      <th></th>\n",
       "      <th>age</th>\n",
       "      <th>sex</th>\n",
       "      <th>cp</th>\n",
       "      <th>trestbps</th>\n",
       "      <th>chol</th>\n",
       "      <th>fbs</th>\n",
       "      <th>restecg</th>\n",
       "      <th>thalach</th>\n",
       "      <th>exang</th>\n",
       "      <th>oldpeak</th>\n",
       "      <th>slope</th>\n",
       "      <th>ca</th>\n",
       "      <th>thal</th>\n",
       "      <th>target</th>\n",
       "    </tr>\n",
       "  </thead>\n",
       "  <tbody>\n",
       "    <tr>\n",
       "      <th>0</th>\n",
       "      <td>63</td>\n",
       "      <td>1</td>\n",
       "      <td>3</td>\n",
       "      <td>145</td>\n",
       "      <td>233</td>\n",
       "      <td>1</td>\n",
       "      <td>0</td>\n",
       "      <td>150</td>\n",
       "      <td>0</td>\n",
       "      <td>2.3</td>\n",
       "      <td>0</td>\n",
       "      <td>0</td>\n",
       "      <td>1</td>\n",
       "      <td>1</td>\n",
       "    </tr>\n",
       "    <tr>\n",
       "      <th>1</th>\n",
       "      <td>37</td>\n",
       "      <td>1</td>\n",
       "      <td>2</td>\n",
       "      <td>130</td>\n",
       "      <td>250</td>\n",
       "      <td>0</td>\n",
       "      <td>1</td>\n",
       "      <td>187</td>\n",
       "      <td>0</td>\n",
       "      <td>3.5</td>\n",
       "      <td>0</td>\n",
       "      <td>0</td>\n",
       "      <td>2</td>\n",
       "      <td>1</td>\n",
       "    </tr>\n",
       "    <tr>\n",
       "      <th>2</th>\n",
       "      <td>41</td>\n",
       "      <td>0</td>\n",
       "      <td>1</td>\n",
       "      <td>130</td>\n",
       "      <td>204</td>\n",
       "      <td>0</td>\n",
       "      <td>0</td>\n",
       "      <td>172</td>\n",
       "      <td>0</td>\n",
       "      <td>1.4</td>\n",
       "      <td>2</td>\n",
       "      <td>0</td>\n",
       "      <td>2</td>\n",
       "      <td>1</td>\n",
       "    </tr>\n",
       "    <tr>\n",
       "      <th>3</th>\n",
       "      <td>56</td>\n",
       "      <td>1</td>\n",
       "      <td>1</td>\n",
       "      <td>120</td>\n",
       "      <td>236</td>\n",
       "      <td>0</td>\n",
       "      <td>1</td>\n",
       "      <td>178</td>\n",
       "      <td>0</td>\n",
       "      <td>0.8</td>\n",
       "      <td>2</td>\n",
       "      <td>0</td>\n",
       "      <td>2</td>\n",
       "      <td>1</td>\n",
       "    </tr>\n",
       "    <tr>\n",
       "      <th>4</th>\n",
       "      <td>57</td>\n",
       "      <td>0</td>\n",
       "      <td>0</td>\n",
       "      <td>120</td>\n",
       "      <td>354</td>\n",
       "      <td>0</td>\n",
       "      <td>1</td>\n",
       "      <td>163</td>\n",
       "      <td>1</td>\n",
       "      <td>0.6</td>\n",
       "      <td>2</td>\n",
       "      <td>0</td>\n",
       "      <td>2</td>\n",
       "      <td>1</td>\n",
       "    </tr>\n",
       "  </tbody>\n",
       "</table>\n",
       "</div>"
      ],
      "text/plain": [
       "   age  sex  cp  trestbps  chol  fbs  restecg  thalach  exang  oldpeak  slope  \\\n",
       "0   63    1   3       145   233    1        0      150      0      2.3      0   \n",
       "1   37    1   2       130   250    0        1      187      0      3.5      0   \n",
       "2   41    0   1       130   204    0        0      172      0      1.4      2   \n",
       "3   56    1   1       120   236    0        1      178      0      0.8      2   \n",
       "4   57    0   0       120   354    0        1      163      1      0.6      2   \n",
       "\n",
       "   ca  thal  target  \n",
       "0   0     1       1  \n",
       "1   0     2       1  \n",
       "2   0     2       1  \n",
       "3   0     2       1  \n",
       "4   0     2       1  "
      ]
     },
     "execution_count": 5,
     "metadata": {},
     "output_type": "execute_result"
    }
   ],
   "source": [
    "df.head() # look at first five rows again"
   ]
  },
  {
   "cell_type": "markdown",
   "id": "fiscal-hundred",
   "metadata": {},
   "source": [
    "**Variable: Trestbps (Resting Blood Pressure)**\n",
    "\n",
    "As a general guide: ideal blood pressure is considered to be between 90/60mmHg and 120/80mmHg. \n",
    "\n",
    "High blood pressure is considered to be 140/90mmHg or higher.\n",
    "\n",
    "Low blood pressure is considered to be 90/60mmHg or lower.\n",
    "\n",
    "https://www.nhs.uk/common-health-questions/lifestyle/what-is-blood-pressure/"
   ]
  },
  {
   "cell_type": "code",
   "execution_count": 6,
   "id": "armed-uruguay",
   "metadata": {},
   "outputs": [
    {
     "data": {
      "image/png": "[encoded data removed]",
      "text/plain": [
       "<Figure size 576x396 with 1 Axes>"
      ]
     },
     "metadata": {},
     "output_type": "display_data"
    }
   ],
   "source": [
    "# box plot of the variable resting blood pressure \n",
    "ax = sns.boxplot(df.trestbps)\n",
    "\n",
    "# notation indicating an outlier\n",
    "ax.annotate('Outliers', xy=(195,0), xytext=(180,-0.09), fontsize=14, bbox = dict(boxstyle=\"round\", fc=\"0.8\"))\n",
    "\n",
    "# xtick, label, and title\n",
    "plt.xticks(fontsize=14)\n",
    "plt.xlabel('Resting Blood Pressure', fontsize=14)\n",
    "plt.title('Boxplot for the variable \"trestbps\"', fontsize=20)\n",
    "plt.show()"
   ]
  },
  {
   "cell_type": "markdown",
   "id": "threatened-supervision",
   "metadata": {},
   "source": [
    "**Variable: Chol (Serum Cholestoral om mg/dl)**\n",
    "\n",
    "\n",
    "\"A serum cholesterol level is a measurement of certain elements in the blood, including the amount of high- and low-density lipoprotein cholesterol (HDL and LDL) in a person's blood. \n",
    "\n",
    "Serum cholesterol levels also show the amount of triglycerides present. Triglycerides are another lipid that can be measured in the blood.\"\n",
    "\n",
    "\n",
    "https://www.medicalnewstoday.com/articles/321519\n",
    "\n",
    "\n",
    "Cholesterol levels for adults\n",
    "\n",
    "- Total cholesterol levels less than 200 milligrams per deciliter (mg/dL) are considered desirable for adults. A reading between 200 and 239 mg/dL is considered borderline high and a reading of 240 mg/dL and above is considered high.\n",
    "\n",
    "https://www.medicalnewstoday.com/articles/315900#recommended-levels"
   ]
  },
  {
   "cell_type": "code",
   "execution_count": 7,
   "id": "center-stake",
   "metadata": {},
   "outputs": [
    {
     "data": {
      "image/png": "[encoded data removed]",
      "text/plain": [
       "<Figure size 576x396 with 1 Axes>"
      ]
     },
     "metadata": {},
     "output_type": "display_data"
    }
   ],
   "source": [
    "# box plot of the variable chol\n",
    "ax = sns.boxplot(df.chol, color = \"yellow\")\n",
    "\n",
    "# notation indicating an outlier\n",
    "ax.annotate('Outliers', xy=(195,0), xytext=(450,-0.05), fontsize=14, bbox = dict(boxstyle=\"round\", fc=\"0.8\"))\n",
    "\n",
    "# xtick, label, and title\n",
    "plt.xticks(fontsize=14)\n",
    "plt.xlabel('Serum Cholestoral in mg/dl', fontsize=14)\n",
    "plt.title('Boxplot for the variable: \"chol\"', fontsize=20)\n",
    "plt.show()"
   ]
  },
  {
   "cell_type": "markdown",
   "id": "current-national",
   "metadata": {},
   "source": [
    "**Variable: Thalach (Maximum Heart rate achieved)**\n",
    "\n",
    "\"You can calculate your maximum heart rate by subtracting your age from 220. For example, if you're 45 years old, subtract 45 from 220 to get a maximum heart rate of 175. This is the average maximum number of times your heart should beat per minute during exercise.\"\n",
    "\n",
    "https://www.mayoclinic.org/healthy-lifestyle/fitness/in-depth/exercise-intensity/art-20046887\n"
   ]
  },
  {
   "cell_type": "code",
   "execution_count": 8,
   "id": "divided-taxation",
   "metadata": {},
   "outputs": [
    {
     "data": {
      "image/png": "[encoded data removed]",
      "text/plain": [
       "<Figure size 576x396 with 1 Axes>"
      ]
     },
     "metadata": {},
     "output_type": "display_data"
    }
   ],
   "source": [
    "# box plot of the variable chol\n",
    "ax = sns.boxplot(df.thalach, color = \"green\")\n",
    "\n",
    "# notation indicating an outlier\n",
    "ax.annotate('Outliers', xy=(195,0), xytext=(65,-0.09), fontsize=14, bbox = dict(boxstyle=\"round\", fc=\"0.8\"))\n",
    "\n",
    "# xtick, label, and title\n",
    "plt.xticks(fontsize=14) # size 14 for font\n",
    "plt.xlabel('Maximum Heart Rate Achieved', fontsize=14) # x label\n",
    "plt.title('Boxplot for the variable: \"thalach\"', fontsize=20) # y lable\n",
    "plt.show() # plot"
   ]
  },
  {
   "cell_type": "markdown",
   "id": "cloudy-afternoon",
   "metadata": {},
   "source": [
    "**Outliers Conclusion**"
   ]
  },
  {
   "cell_type": "markdown",
   "id": "african-haiti",
   "metadata": {},
   "source": [
    "- Although there were key noticable outliers, we want to keep these supposedly \"outliers\" to make sure our model is able to detect any unusual cases of physical conditions for better classifications\n",
    "- Therefore, no outliers will be taken out"
   ]
  },
  {
   "cell_type": "markdown",
   "id": "indirect-plastic",
   "metadata": {},
   "source": [
    "#### 2.5 Check for Missing Values"
   ]
  },
  {
   "cell_type": "code",
   "execution_count": 9,
   "id": "several-sequence",
   "metadata": {},
   "outputs": [
    {
     "data": {
      "text/plain": [
       "age         0\n",
       "sex         0\n",
       "cp          0\n",
       "trestbps    0\n",
       "chol        0\n",
       "fbs         0\n",
       "restecg     0\n",
       "thalach     0\n",
       "exang       0\n",
       "oldpeak     0\n",
       "slope       0\n",
       "ca          0\n",
       "thal        0\n",
       "target      0\n",
       "dtype: int64"
      ]
     },
     "execution_count": 9,
     "metadata": {},
     "output_type": "execute_result"
    }
   ],
   "source": [
    "df.isna().sum() # sum the number of missing values"
   ]
  },
  {
   "cell_type": "markdown",
   "id": "necessary-nelson",
   "metadata": {},
   "source": [
    "**Missing Data Conclusion**\n",
    "- No missing values in this data set"
   ]
  },
  {
   "cell_type": "markdown",
   "id": "conditional-celtic",
   "metadata": {},
   "source": [
    "#### 2.6 Check for Inconsistent Values"
   ]
  },
  {
   "cell_type": "code",
   "execution_count": 10,
   "id": "cordless-roberts",
   "metadata": {},
   "outputs": [
    {
     "name": "stdout",
     "output_type": "stream",
     "text": [
      "\n",
      "Column:  age\n",
      "Values:  [63 37 41 56 57 44 52 54 48 49 64 58 50 66 43 69 59 42 61 40 71 51 65 53\n",
      " 46 45 39 47 62 34 35 29 55 60 67 68 74 76 70 38 77]\n",
      "No.of.unique values : 41\n",
      "\n",
      "Column:  sex\n",
      "Values:  [1 0]\n",
      "No.of.unique values : 2\n",
      "\n",
      "Column:  cp\n",
      "Values:  [3 2 1 0]\n",
      "No.of.unique values : 4\n",
      "\n",
      "Column:  trestbps\n",
      "Values:  [145 130 120 140 172 150 110 135 160 105 125 142 155 104 138 128 108 134\n",
      " 122 115 118 100 124  94 112 102 152 101 132 148 178 129 180 136 126 106\n",
      " 156 170 146 117 200 165 174 192 144 123 154 114 164]\n",
      "No.of.unique values : 49\n",
      "\n",
      "Column:  chol\n",
      "Values:  [233 250 204 236 354 192 294 263 199 168 239 275 266 211 283 219 340 226\n",
      " 247 234 243 302 212 175 417 197 198 177 273 213 304 232 269 360 308 245\n",
      " 208 264 321 325 235 257 216 256 231 141 252 201 222 260 182 303 265 309\n",
      " 186 203 183 220 209 258 227 261 221 205 240 318 298 564 277 214 248 255\n",
      " 207 223 288 160 394 315 246 244 270 195 196 254 126 313 262 215 193 271\n",
      " 268 267 210 295 306 178 242 180 228 149 278 253 342 157 286 229 284 224\n",
      " 206 167 230 335 276 353 225 330 290 172 305 188 282 185 326 274 164 307\n",
      " 249 341 407 217 174 281 289 322 299 300 293 184 409 259 200 327 237 218\n",
      " 319 166 311 169 187 176 241 131]\n",
      "No.of.unique values : 152\n",
      "\n",
      "Column:  fbs\n",
      "Values:  [1 0]\n",
      "No.of.unique values : 2\n",
      "\n",
      "Column:  restecg\n",
      "Values:  [0 1 2]\n",
      "No.of.unique values : 3\n",
      "\n",
      "Column:  thalach\n",
      "Values:  [150 187 172 178 163 148 153 173 162 174 160 139 171 144 158 114 151 161\n",
      " 179 137 157 123 152 168 140 188 125 170 165 142 180 143 182 156 115 149\n",
      " 146 175 186 185 159 130 190 132 147 154 202 166 164 184 122 169 138 111\n",
      " 145 194 131 133 155 167 192 121  96 126 105 181 116 108 129 120 112 128\n",
      " 109 113  99 177 141 136  97 127 103 124  88 195 106  95 117  71 118 134\n",
      "  90]\n",
      "No.of.unique values : 91\n",
      "\n",
      "Column:  exang\n",
      "Values:  [0 1]\n",
      "No.of.unique values : 2\n",
      "\n",
      "Column:  oldpeak\n",
      "Values:  [2.3 3.5 1.4 0.8 0.6 0.4 1.3 0.  0.5 1.6 1.2 0.2 1.8 1.  2.6 1.5 3.  2.4\n",
      " 0.1 1.9 4.2 1.1 2.  0.7 0.3 0.9 3.6 3.1 3.2 2.5 2.2 2.8 3.4 6.2 4.  5.6\n",
      " 2.9 2.1 3.8 4.4]\n",
      "No.of.unique values : 40\n",
      "\n",
      "Column:  slope\n",
      "Values:  [0 2 1]\n",
      "No.of.unique values : 3\n",
      "\n",
      "Column:  ca\n",
      "Values:  [0 2 1 3 4]\n",
      "No.of.unique values : 5\n",
      "\n",
      "Column:  thal\n",
      "Values:  [1 2 3 0]\n",
      "No.of.unique values : 4\n",
      "\n",
      "Column:  target\n",
      "Values:  [1 0]\n",
      "No.of.unique values : 2\n"
     ]
    }
   ],
   "source": [
    "# columns\n",
    "cols = list(df.columns) # list the columns\n",
    "for i in cols:\n",
    "    # Name of column\n",
    "    print(\"\\nColumn: \", i)\n",
    "    \n",
    "    #Unique Values\n",
    "    print(\"Values: \", df[i].unique())\n",
    "    # counting unique values\n",
    "    n = len(pd.unique(df[i]))\n",
    "    print(\"No.of.unique values :\", n)"
   ]
  },
  {
   "cell_type": "markdown",
   "id": "empirical-booth",
   "metadata": {},
   "source": [
    "**Inconsistent Values Conclusion**\n",
    "- All values are valid without and data entry errors"
   ]
  },
  {
   "cell_type": "markdown",
   "id": "universal-brown",
   "metadata": {},
   "source": [
    "#### 2.7 Duplicate Rows "
   ]
  },
  {
   "cell_type": "code",
   "execution_count": 11,
   "id": "aware-secondary",
   "metadata": {},
   "outputs": [
    {
     "name": "stdout",
     "output_type": "stream",
     "text": [
      "Duplicate Rows except first occurrence based on all columns are : \n",
      "      age  sex  cp  trestbps  chol  fbs  restecg  thalach  exang  oldpeak  \\\n",
      "164   38    1   2       138   175    0        1      173      0      0.0   \n",
      "\n",
      "     slope  ca  thal  target  \n",
      "164      2   4     2       1  \n"
     ]
    }
   ],
   "source": [
    "# Select duplicate rows except first occurrence based on all columns\n",
    "duplicateRowsDF = df[df.duplicated(keep = 'first')] # find duplicate rows and keep only the original\n",
    "dup_index = duplicateRowsDF.index # find the indexes of the duplicate rows\n",
    "\n",
    "print(\"Duplicate Rows except first occurrence based on all columns are : \\n\", duplicateRowsDF) # print duplicate rows\n"
   ]
  },
  {
   "cell_type": "markdown",
   "id": "serial-transition",
   "metadata": {},
   "source": [
    "**Duplicate Rows Conclusion**\n",
    "- We only found one exact duplicate row of index 163 which is found at index 164, so we decided to drop that row only"
   ]
  },
  {
   "cell_type": "code",
   "execution_count": 12,
   "id": "centered-technology",
   "metadata": {},
   "outputs": [
    {
     "data": {
      "text/html": [
       "<div>\n",
       "<style scoped>\n",
       "    .dataframe tbody tr th:only-of-type {\n",
       "        vertical-align: middle;\n",
       "    }\n",
       "\n",
       "    .dataframe tbody tr th {\n",
       "        vertical-align: top;\n",
       "    }\n",
       "\n",
       "    .dataframe thead th {\n",
       "        text-align: right;\n",
       "    }\n",
       "</style>\n",
       "<table border=\"1\" class=\"dataframe\">\n",
       "  <thead>\n",
       "    <tr style=\"text-align: right;\">\n",
       "      <th></th>\n",
       "      <th>age</th>\n",
       "      <th>sex</th>\n",
       "      <th>cp</th>\n",
       "      <th>trestbps</th>\n",
       "      <th>chol</th>\n",
       "      <th>fbs</th>\n",
       "      <th>restecg</th>\n",
       "      <th>thalach</th>\n",
       "      <th>exang</th>\n",
       "      <th>oldpeak</th>\n",
       "      <th>slope</th>\n",
       "      <th>ca</th>\n",
       "      <th>thal</th>\n",
       "      <th>target</th>\n",
       "    </tr>\n",
       "  </thead>\n",
       "  <tbody>\n",
       "  </tbody>\n",
       "</table>\n",
       "</div>"
      ],
      "text/plain": [
       "Empty DataFrame\n",
       "Columns: [age, sex, cp, trestbps, chol, fbs, restecg, thalach, exang, oldpeak, slope, ca, thal, target]\n",
       "Index: []"
      ]
     },
     "execution_count": 12,
     "metadata": {},
     "output_type": "execute_result"
    }
   ],
   "source": [
    "# return a new dataframe by dropping a \n",
    "# row 'c' from dataframe\n",
    "df = df.drop(dup_index)\n",
    "\n",
    "# returns empty data frame because there are no longer any duplicate rows\n",
    "df[df.duplicated(keep = 'first')]\n"
   ]
  },
  {
   "cell_type": "markdown",
   "id": "checked-supply",
   "metadata": {},
   "source": [
    "#### 2.8 Reclassifying categorical variables.\n",
    "- The following will be reclassified to help with exploratory data analysis with the original data meaning instead of discrete categorical values "
   ]
  },
  {
   "cell_type": "markdown",
   "id": "atomic-stuff",
   "metadata": {},
   "source": [
    "**Sex Variable: \"sex\"** "
   ]
  },
  {
   "cell_type": "code",
   "execution_count": 13,
   "id": "serial-radical",
   "metadata": {},
   "outputs": [
    {
     "data": {
      "text/plain": [
       "['male', 'female']"
      ]
     },
     "execution_count": 13,
     "metadata": {},
     "output_type": "execute_result"
    }
   ],
   "source": [
    "df['sex'] = df.apply(lambda x: 'male' if x['sex'] == 1 else 'female', axis = 1) # convert values from column into strings\n",
    "list(df.sex.unique()) # list unique values"
   ]
  },
  {
   "cell_type": "markdown",
   "id": "clear-personality",
   "metadata": {},
   "source": [
    "**Chest Pain Variable: \"cp\"**"
   ]
  },
  {
   "cell_type": "code",
   "execution_count": 14,
   "id": "trained-rates",
   "metadata": {},
   "outputs": [],
   "source": [
    "def cp_bins(x): \n",
    "    '''\n",
    "    A function that takes in a value and returns a string depending on which conditions it returns true\n",
    "    '''\n",
    "    if x == 1: \n",
    "        return 'typical angina'\n",
    "    elif x == 2:\n",
    "        return 'atypical angina'\n",
    "    elif x == 3:\n",
    "        return 'non-anginal pain'\n",
    "    else:\n",
    "        return 'asymptomatic'"
   ]
  },
  {
   "cell_type": "code",
   "execution_count": 15,
   "id": "violent-router",
   "metadata": {},
   "outputs": [
    {
     "data": {
      "text/plain": [
       "['non-anginal pain', 'atypical angina', 'typical angina', 'asymptomatic']"
      ]
     },
     "execution_count": 15,
     "metadata": {},
     "output_type": "execute_result"
    }
   ],
   "source": [
    "df['cp'] = df.apply(lambda x: cp_bins(x['cp']), axis = 1) # call function onto each value of 'cp' column\n",
    "list(df.cp.unique()) # list the unique values"
   ]
  },
  {
   "cell_type": "markdown",
   "id": "female-graduate",
   "metadata": {},
   "source": [
    "**Diabetes Variable: \"fbs\"**\n"
   ]
  },
  {
   "cell_type": "code",
   "execution_count": 16,
   "id": "organized-jason",
   "metadata": {},
   "outputs": [
    {
     "data": {
      "text/plain": [
       "['Diabetes', 'Prediabetes or Normal']"
      ]
     },
     "execution_count": 16,
     "metadata": {},
     "output_type": "execute_result"
    }
   ],
   "source": [
    "df['fbs'] = df.apply(lambda x: 'Diabetes' if x['fbs'] == 1 else 'Prediabetes or Normal', \n",
    "                     axis = 1) # convert numerical data to categorical string data\n",
    "list(df.fbs.unique()) # list unique values"
   ]
  },
  {
   "cell_type": "markdown",
   "id": "accompanied-sudan",
   "metadata": {},
   "source": [
    "**Resting Electrocardiographic Results**"
   ]
  },
  {
   "cell_type": "code",
   "execution_count": 17,
   "id": "interesting-blood",
   "metadata": {},
   "outputs": [],
   "source": [
    "def restecg_bins(x):\n",
    "    '''\n",
    "    A function that takes in a value and returns a string depending on which conditions it returns true\n",
    "    '''\n",
    "    if x == 0: \n",
    "        return 'Normal'\n",
    "    elif x == 1:\n",
    "        return 'Abornomality'\n",
    "    else:\n",
    "        return 'Probable Hypertrophy'"
   ]
  },
  {
   "cell_type": "code",
   "execution_count": 18,
   "id": "fabulous-convention",
   "metadata": {},
   "outputs": [
    {
     "data": {
      "text/plain": [
       "['Normal', 'Abornomality', 'Probable Hypertrophy']"
      ]
     },
     "execution_count": 18,
     "metadata": {},
     "output_type": "execute_result"
    }
   ],
   "source": [
    "# call function on 'restecg' column\n",
    "df['restecg'] = df.apply(lambda x: restecg_bins(x['restecg']), axis = 1) \n",
    "list(df.restecg.unique()) # list unique values"
   ]
  },
  {
   "cell_type": "markdown",
   "id": "pressed-greensboro",
   "metadata": {},
   "source": [
    "**Exercuse Induced Angina**"
   ]
  },
  {
   "cell_type": "code",
   "execution_count": 19,
   "id": "ideal-kingston",
   "metadata": {},
   "outputs": [
    {
     "data": {
      "text/plain": [
       "['No Ex Angina', 'Exercise Angina']"
      ]
     },
     "execution_count": 19,
     "metadata": {},
     "output_type": "execute_result"
    }
   ],
   "source": [
    "# call function on 'exang' column\n",
    "df['exang'] = df.apply(lambda x: 'Exercise Angina' if x['exang'] == 1 else 'No Ex Angina', \n",
    "                     axis = 1) \n",
    "list(df.exang.unique()) # list unique values"
   ]
  },
  {
   "cell_type": "markdown",
   "id": "turned-treatment",
   "metadata": {},
   "source": [
    "**Reclassifying Categorical Variables Conclusion**\n",
    "- We convert the following variables with discrete numerical values back to the original categorical value for better context and for EDA\n",
    "1. Sex (\"sex\")\n",
    "2. Chest Pain (\"cp\")\n",
    "3. Diabetes (\"fbs\")\n",
    "4. Resting Electrocardiographic Results (\"restecg\")\n",
    "5. Exercise Induced Angina (\"exang\")"
   ]
  },
  {
   "cell_type": "markdown",
   "id": "instrumental-omaha",
   "metadata": {},
   "source": [
    "--------"
   ]
  },
  {
   "cell_type": "markdown",
   "id": "single-miami",
   "metadata": {},
   "source": [
    "### 3. Exploratory Data Analysis Phase"
   ]
  },
  {
   "cell_type": "markdown",
   "id": "considerable-endorsement",
   "metadata": {},
   "source": [
    "#### 3.1 Exploring Age"
   ]
  },
  {
   "cell_type": "code",
   "execution_count": 20,
   "id": "stainless-constraint",
   "metadata": {},
   "outputs": [
    {
     "data": {
      "image/png": "[encoded data removed]",
      "text/plain": [
       "<Figure size 576x396 with 1 Axes>"
      ]
     },
     "metadata": {},
     "output_type": "display_data"
    }
   ],
   "source": [
    "sns.set_theme(style = \"darkgrid\")\n",
    "# Look at the counts of positive cases by age\n",
    "heart_age_y = df[df.target == 1]['age']\n",
    "# Look at the counts of negative cases by age\n",
    "heart_age_n = df[df.target == 0]['age']\n",
    "# Create bins and plot histogram for age groups with taret overlay\n",
    "(n, bins, patches) = plt.hist([heart_age_y, heart_age_n], bins = 10, stacked = True)\n",
    "# Annotate legend, title with x and y labels\n",
    "plt.legend(['Target = 1', 'Target = 0'], bbox_to_anchor=(1.3, 1.2))\n",
    "plt.title('Histogram of Age with target Overlay')\n",
    "plt.xlabel('Age')\n",
    "plt.ylabel('Frequency')\n",
    "plt.show()"
   ]
  },
  {
   "cell_type": "code",
   "execution_count": 21,
   "id": "norwegian-skating",
   "metadata": {},
   "outputs": [
    {
     "data": {
      "image/png": "[encoded data removed]",
      "text/plain": [
       "<Figure size 576x396 with 1 Axes>"
      ]
     },
     "metadata": {},
     "output_type": "display_data"
    }
   ],
   "source": [
    "sns.set_theme(style = \"darkgrid\")\n",
    "# Create normalized histogram for age groups by target overlay\n",
    "n_table = np.column_stack((n[0], n[1])) # stack the tables\n",
    "n_norm = n_table/n_table.sum(axis =1)[:, None] # create normalized tables by sum\n",
    "ourbins = np.column_stack((bins[0:10], bins[1:11])) # create table bins \n",
    "p1 = plt.bar(x = ourbins[:,0], height = n_norm[:,0], width = ourbins[:,1] - ourbins[:,0]) # first bar chart\n",
    "p2 = plt.bar(x = ourbins[:,0], height = n_norm[:,1], width = ourbins[:,1] - ourbins[:,0], # second bar chart\n",
    "             bottom = n_norm[:,0])\n",
    "# Annotate legend, title with x and y labels\n",
    "plt.legend(['Target = 1', 'Target = 0'], bbox_to_anchor=(1.3, 1.2))\n",
    "plt.title('Normalized Histogram of Age with target Overlay')\n",
    "plt.xlabel('Age')\n",
    "plt.ylabel('Proportion')\n",
    "plt.show()"
   ]
  },
  {
   "cell_type": "code",
   "execution_count": 22,
   "id": "5dc7715c",
   "metadata": {},
   "outputs": [],
   "source": [
    "def age_bins(x):\n",
    "    '''\n",
    "    Convert age into age bins \n",
    "    '''\n",
    "    if x < 60: \n",
    "        return 'under 60s'\n",
    "    else:\n",
    "        return 'over 60s'"
   ]
  },
  {
   "cell_type": "code",
   "execution_count": 23,
   "id": "bb7e4783",
   "metadata": {},
   "outputs": [
    {
     "data": {
      "text/html": [
       "<div>\n",
       "<style scoped>\n",
       "    .dataframe tbody tr th:only-of-type {\n",
       "        vertical-align: middle;\n",
       "    }\n",
       "\n",
       "    .dataframe tbody tr th {\n",
       "        vertical-align: top;\n",
       "    }\n",
       "\n",
       "    .dataframe thead th {\n",
       "        text-align: right;\n",
       "    }\n",
       "</style>\n",
       "<table border=\"1\" class=\"dataframe\">\n",
       "  <thead>\n",
       "    <tr style=\"text-align: right;\">\n",
       "      <th></th>\n",
       "      <th>age</th>\n",
       "      <th>target</th>\n",
       "    </tr>\n",
       "  </thead>\n",
       "  <tbody>\n",
       "    <tr>\n",
       "      <th>0</th>\n",
       "      <td>over 60s</td>\n",
       "      <td>1</td>\n",
       "    </tr>\n",
       "    <tr>\n",
       "      <th>1</th>\n",
       "      <td>under 60s</td>\n",
       "      <td>1</td>\n",
       "    </tr>\n",
       "    <tr>\n",
       "      <th>2</th>\n",
       "      <td>under 60s</td>\n",
       "      <td>1</td>\n",
       "    </tr>\n",
       "    <tr>\n",
       "      <th>3</th>\n",
       "      <td>under 60s</td>\n",
       "      <td>1</td>\n",
       "    </tr>\n",
       "    <tr>\n",
       "      <th>4</th>\n",
       "      <td>under 60s</td>\n",
       "      <td>1</td>\n",
       "    </tr>\n",
       "  </tbody>\n",
       "</table>\n",
       "</div>"
      ],
      "text/plain": [
       "         age  target\n",
       "0   over 60s       1\n",
       "1  under 60s       1\n",
       "2  under 60s       1\n",
       "3  under 60s       1\n",
       "4  under 60s       1"
      ]
     },
     "execution_count": 23,
     "metadata": {},
     "output_type": "execute_result"
    }
   ],
   "source": [
    "age_df = df[['age','target']]\n",
    "age_df['age'] = age_df.apply(lambda x: age_bins(x['age']), axis = 1)\n",
    "age_df['age'] = pd.Categorical(age_df['age'],\n",
    "                                   categories=['under 60s', 'over 60s'],\n",
    "                                   ordered=True)\n",
    "age_df.head()"
   ]
  },
  {
   "cell_type": "code",
   "execution_count": 24,
   "id": "3339f714",
   "metadata": {},
   "outputs": [
    {
     "data": {
      "image/png": "[encoded data removed]",
      "text/plain": [
       "<Figure size 432x360 with 1 Axes>"
      ]
     },
     "metadata": {},
     "output_type": "display_data"
    }
   ],
   "source": [
    "sns.set_theme(style=\"whitegrid\")\n",
    "\n",
    "# Set up a grid to plot heart disease probability against age\n",
    "g = sns.PairGrid(age_df, y_vars=\"target\",\n",
    "                 x_vars=[\"age\"],\n",
    "                 height=5, aspect=1.2)\n",
    "\n",
    "# Draw a seaborn pointplot onto each Axes\n",
    "g.map(sns.pointplot, scale=1.3, errwidth=4, color=\"xkcd:plum\")\n",
    "g.set(ylim=(0, 1))\n",
    "g.axes[0,0].set_title(\"Presence of Heart Disease Between Age Groups\")\n",
    "g.axes[0,0].set_xlabel('Age Groups')\n",
    "g.axes[0,0].set_ylabel('Probability of Heart Disease')\n",
    "#g.axes[0,1].set_xlabel('axes label 2')\n",
    "sns.despine(fig=g.fig, left=True)"
   ]
  },
  {
   "cell_type": "markdown",
   "id": "passing-warrant",
   "metadata": {},
   "source": [
    "#### 3.2 Exploring Resting Blood Pressure"
   ]
  },
  {
   "cell_type": "code",
   "execution_count": 25,
   "id": "everyday-implementation",
   "metadata": {},
   "outputs": [
    {
     "data": {
      "text/html": [
       "<div>\n",
       "<style scoped>\n",
       "    .dataframe tbody tr th:only-of-type {\n",
       "        vertical-align: middle;\n",
       "    }\n",
       "\n",
       "    .dataframe tbody tr th {\n",
       "        vertical-align: top;\n",
       "    }\n",
       "\n",
       "    .dataframe thead th {\n",
       "        text-align: right;\n",
       "    }\n",
       "</style>\n",
       "<table border=\"1\" class=\"dataframe\">\n",
       "  <thead>\n",
       "    <tr style=\"text-align: right;\">\n",
       "      <th></th>\n",
       "      <th>age</th>\n",
       "      <th>trestbps</th>\n",
       "      <th>target</th>\n",
       "    </tr>\n",
       "  </thead>\n",
       "  <tbody>\n",
       "    <tr>\n",
       "      <th>0</th>\n",
       "      <td>63</td>\n",
       "      <td>145</td>\n",
       "      <td>1</td>\n",
       "    </tr>\n",
       "    <tr>\n",
       "      <th>1</th>\n",
       "      <td>37</td>\n",
       "      <td>130</td>\n",
       "      <td>1</td>\n",
       "    </tr>\n",
       "    <tr>\n",
       "      <th>2</th>\n",
       "      <td>41</td>\n",
       "      <td>130</td>\n",
       "      <td>1</td>\n",
       "    </tr>\n",
       "    <tr>\n",
       "      <th>3</th>\n",
       "      <td>56</td>\n",
       "      <td>120</td>\n",
       "      <td>1</td>\n",
       "    </tr>\n",
       "    <tr>\n",
       "      <th>4</th>\n",
       "      <td>57</td>\n",
       "      <td>120</td>\n",
       "      <td>1</td>\n",
       "    </tr>\n",
       "  </tbody>\n",
       "</table>\n",
       "</div>"
      ],
      "text/plain": [
       "   age  trestbps  target\n",
       "0   63       145       1\n",
       "1   37       130       1\n",
       "2   41       130       1\n",
       "3   56       120       1\n",
       "4   57       120       1"
      ]
     },
     "execution_count": 25,
     "metadata": {},
     "output_type": "execute_result"
    }
   ],
   "source": [
    "# Selecting only these variables\n",
    "bps_df = df[['age', 'trestbps', 'target']]\n",
    "bps_df.head()"
   ]
  },
  {
   "cell_type": "code",
   "execution_count": 26,
   "id": "hindu-utility",
   "metadata": {},
   "outputs": [
    {
     "data": {
      "text/html": [
       "<div>\n",
       "<style scoped>\n",
       "    .dataframe tbody tr th:only-of-type {\n",
       "        vertical-align: middle;\n",
       "    }\n",
       "\n",
       "    .dataframe tbody tr th {\n",
       "        vertical-align: top;\n",
       "    }\n",
       "\n",
       "    .dataframe thead th {\n",
       "        text-align: right;\n",
       "    }\n",
       "</style>\n",
       "<table border=\"1\" class=\"dataframe\">\n",
       "  <thead>\n",
       "    <tr style=\"text-align: right;\">\n",
       "      <th></th>\n",
       "      <th>age</th>\n",
       "      <th>trestbps</th>\n",
       "      <th>target</th>\n",
       "    </tr>\n",
       "  </thead>\n",
       "  <tbody>\n",
       "    <tr>\n",
       "      <th>0</th>\n",
       "      <td>over 60s</td>\n",
       "      <td>145</td>\n",
       "      <td>1</td>\n",
       "    </tr>\n",
       "    <tr>\n",
       "      <th>1</th>\n",
       "      <td>under 60s</td>\n",
       "      <td>130</td>\n",
       "      <td>1</td>\n",
       "    </tr>\n",
       "    <tr>\n",
       "      <th>2</th>\n",
       "      <td>under 60s</td>\n",
       "      <td>130</td>\n",
       "      <td>1</td>\n",
       "    </tr>\n",
       "    <tr>\n",
       "      <th>3</th>\n",
       "      <td>under 60s</td>\n",
       "      <td>120</td>\n",
       "      <td>1</td>\n",
       "    </tr>\n",
       "    <tr>\n",
       "      <th>4</th>\n",
       "      <td>under 60s</td>\n",
       "      <td>120</td>\n",
       "      <td>1</td>\n",
       "    </tr>\n",
       "  </tbody>\n",
       "</table>\n",
       "</div>"
      ],
      "text/plain": [
       "         age  trestbps  target\n",
       "0   over 60s       145       1\n",
       "1  under 60s       130       1\n",
       "2  under 60s       130       1\n",
       "3  under 60s       120       1\n",
       "4  under 60s       120       1"
      ]
     },
     "execution_count": 26,
     "metadata": {},
     "output_type": "execute_result"
    }
   ],
   "source": [
    " # call function onto column values for age\n",
    "bps_df['age'] = bps_df.apply(lambda x: age_bins(x['age']), axis = 1)\n",
    "bps_df.head()"
   ]
  },
  {
   "cell_type": "code",
   "execution_count": 27,
   "id": "fitting-spouse",
   "metadata": {},
   "outputs": [
    {
     "data": {
      "image/png": "[encoded data removed]",
      "text/plain": [
       "<Figure size 576x396 with 1 Axes>"
      ]
     },
     "metadata": {},
     "output_type": "display_data"
    }
   ],
   "source": [
    "sns.set_theme(style = \"ticks\")\n",
    "\n",
    "# Draw nested boxplot for age groups by resting blood pressure with taret overlay\n",
    "ax = sns.boxplot(x = 'age', y = 'trestbps', hue = 'target',\n",
    "           palette = ['m', 'g'],\n",
    "           data = bps_df, order = ['under 60s', 'over 60s'])\n",
    "sns.despine(offset = 10, trim = True) # move position of graph\n",
    "plt.legend(bbox_to_anchor = (1.05,1), loc = 2, borderaxespad = 0.) #legend\n",
    "# Annotate the title and x and y-axis\n",
    "plt.title('Boxplots of Age and Resting Blood Pressure with Target Overlay')\n",
    "plt.xlabel('Age Groups')\n",
    "plt.ylabel('Resting Blood Pressure')\n",
    "plt.show()"
   ]
  },
  {
   "cell_type": "markdown",
   "id": "greater-importance",
   "metadata": {},
   "source": [
    "#### 3.3 Exploring Sex "
   ]
  },
  {
   "cell_type": "code",
   "execution_count": 28,
   "id": "normal-welding",
   "metadata": {},
   "outputs": [
    {
     "data": {
      "text/html": [
       "<div>\n",
       "<style scoped>\n",
       "    .dataframe tbody tr th:only-of-type {\n",
       "        vertical-align: middle;\n",
       "    }\n",
       "\n",
       "    .dataframe tbody tr th {\n",
       "        vertical-align: top;\n",
       "    }\n",
       "\n",
       "    .dataframe thead th {\n",
       "        text-align: right;\n",
       "    }\n",
       "</style>\n",
       "<table border=\"1\" class=\"dataframe\">\n",
       "  <thead>\n",
       "    <tr style=\"text-align: right;\">\n",
       "      <th></th>\n",
       "      <th>sex</th>\n",
       "      <th>trestbps</th>\n",
       "      <th>target</th>\n",
       "    </tr>\n",
       "  </thead>\n",
       "  <tbody>\n",
       "    <tr>\n",
       "      <th>0</th>\n",
       "      <td>male</td>\n",
       "      <td>145</td>\n",
       "      <td>1</td>\n",
       "    </tr>\n",
       "    <tr>\n",
       "      <th>1</th>\n",
       "      <td>male</td>\n",
       "      <td>130</td>\n",
       "      <td>1</td>\n",
       "    </tr>\n",
       "    <tr>\n",
       "      <th>2</th>\n",
       "      <td>female</td>\n",
       "      <td>130</td>\n",
       "      <td>1</td>\n",
       "    </tr>\n",
       "    <tr>\n",
       "      <th>3</th>\n",
       "      <td>male</td>\n",
       "      <td>120</td>\n",
       "      <td>1</td>\n",
       "    </tr>\n",
       "    <tr>\n",
       "      <th>4</th>\n",
       "      <td>female</td>\n",
       "      <td>120</td>\n",
       "      <td>1</td>\n",
       "    </tr>\n",
       "  </tbody>\n",
       "</table>\n",
       "</div>"
      ],
      "text/plain": [
       "      sex  trestbps  target\n",
       "0    male       145       1\n",
       "1    male       130       1\n",
       "2  female       130       1\n",
       "3    male       120       1\n",
       "4  female       120       1"
      ]
     },
     "execution_count": 28,
     "metadata": {},
     "output_type": "execute_result"
    }
   ],
   "source": [
    "# Select only these variables\n",
    "sex = df[['sex','trestbps', 'target']]\n",
    "sex.head()"
   ]
  },
  {
   "cell_type": "code",
   "execution_count": 29,
   "id": "natural-trace",
   "metadata": {},
   "outputs": [
    {
     "data": {
      "image/png": "[encoded data removed]",
      "text/plain": [
       "<Figure size 576x396 with 1 Axes>"
      ]
     },
     "metadata": {},
     "output_type": "display_data"
    }
   ],
   "source": [
    "# Look at the frequency between sex\n",
    "sns.set_theme(style = \"darkgrid\")\n",
    "# Bar chart of frequency by sex\n",
    "sns.histplot(data = sex, x = 'sex', multiple = 'dodge', shrink = .8)\n",
    "sns.despine(offset = 10, trim = True)\n",
    "plt.title('Number of Male and Female Patients')\n",
    "plt.xlabel('Sex Groups')\n",
    "plt.ylabel('Frequency')\n",
    "plt.show()"
   ]
  },
  {
   "cell_type": "code",
   "execution_count": 30,
   "id": "2fbefea2",
   "metadata": {},
   "outputs": [
    {
     "data": {
      "image/png": "[encoded data removed]",
      "text/plain": [
       "<Figure size 432x360 with 1 Axes>"
      ]
     },
     "metadata": {},
     "output_type": "display_data"
    }
   ],
   "source": [
    "sns.set_theme(style=\"whitegrid\")\n",
    "\n",
    "# Set up a grid to plot heart disease probability against sex\n",
    "g = sns.PairGrid(sex, y_vars=\"target\",\n",
    "                 x_vars=[\"sex\"],\n",
    "                 height=5, aspect=1.2)\n",
    "\n",
    "# Draw a seaborn pointplot onto each Axes\n",
    "g.map(sns.pointplot, scale=1.3, errwidth=4, color=\"xkcd:plum\")\n",
    "g.set(ylim=(0, 1))\n",
    "g.axes[0,0].set_title(\"Presence of Heart Disease Between Sex\")\n",
    "g.axes[0,0].set_xlabel('Sex Groups')\n",
    "g.axes[0,0].set_ylabel('Probability of Heart Disease')\n",
    "#g.axes[0,1].set_xlabel('axes label 2')\n",
    "sns.despine(fig=g.fig, left=True)"
   ]
  },
  {
   "cell_type": "markdown",
   "id": "graduate-portland",
   "metadata": {},
   "source": [
    "#### 3.4 Exploring Sex and Age"
   ]
  },
  {
   "cell_type": "code",
   "execution_count": 31,
   "id": "diagnostic-profession",
   "metadata": {},
   "outputs": [
    {
     "data": {
      "text/html": [
       "<div>\n",
       "<style scoped>\n",
       "    .dataframe tbody tr th:only-of-type {\n",
       "        vertical-align: middle;\n",
       "    }\n",
       "\n",
       "    .dataframe tbody tr th {\n",
       "        vertical-align: top;\n",
       "    }\n",
       "\n",
       "    .dataframe thead th {\n",
       "        text-align: right;\n",
       "    }\n",
       "</style>\n",
       "<table border=\"1\" class=\"dataframe\">\n",
       "  <thead>\n",
       "    <tr style=\"text-align: right;\">\n",
       "      <th></th>\n",
       "      <th>age</th>\n",
       "      <th>sex</th>\n",
       "      <th>target</th>\n",
       "    </tr>\n",
       "  </thead>\n",
       "  <tbody>\n",
       "    <tr>\n",
       "      <th>0</th>\n",
       "      <td>63</td>\n",
       "      <td>male</td>\n",
       "      <td>1</td>\n",
       "    </tr>\n",
       "    <tr>\n",
       "      <th>1</th>\n",
       "      <td>37</td>\n",
       "      <td>male</td>\n",
       "      <td>1</td>\n",
       "    </tr>\n",
       "    <tr>\n",
       "      <th>2</th>\n",
       "      <td>41</td>\n",
       "      <td>female</td>\n",
       "      <td>1</td>\n",
       "    </tr>\n",
       "    <tr>\n",
       "      <th>3</th>\n",
       "      <td>56</td>\n",
       "      <td>male</td>\n",
       "      <td>1</td>\n",
       "    </tr>\n",
       "    <tr>\n",
       "      <th>4</th>\n",
       "      <td>57</td>\n",
       "      <td>female</td>\n",
       "      <td>1</td>\n",
       "    </tr>\n",
       "  </tbody>\n",
       "</table>\n",
       "</div>"
      ],
      "text/plain": [
       "   age     sex  target\n",
       "0   63    male       1\n",
       "1   37    male       1\n",
       "2   41  female       1\n",
       "3   56    male       1\n",
       "4   57  female       1"
      ]
     },
     "execution_count": 31,
     "metadata": {},
     "output_type": "execute_result"
    }
   ],
   "source": [
    "# Select only these variables\n",
    "sex_age_df = df[['age', 'sex','target']] \n",
    "sex_age_df.head()"
   ]
  },
  {
   "cell_type": "code",
   "execution_count": 32,
   "id": "seventh-diana",
   "metadata": {},
   "outputs": [
    {
     "data": {
      "image/png": "[encoded data removed]",
      "text/plain": [
       "<Figure size 797.975x360 with 2 Axes>"
      ]
     },
     "metadata": {},
     "output_type": "display_data"
    }
   ],
   "source": [
    "# Look at the frequency of age bins by gender\n",
    "sns.set_theme(style = \"darkgrid\")\n",
    "g = sns.displot(sex_age_df, x = 'age', col = 'sex', hue ='sex', multiple ='dodge')\n",
    "g = sns.despine(offset = 10, trim = True)\n",
    "plt.show()"
   ]
  },
  {
   "cell_type": "markdown",
   "id": "ready-place",
   "metadata": {},
   "source": [
    "#### 3.5 Exploring Maximum Heart Rate (\"Thalach\")"
   ]
  },
  {
   "cell_type": "code",
   "execution_count": 33,
   "id": "moved-designation",
   "metadata": {},
   "outputs": [
    {
     "data": {
      "text/html": [
       "<div>\n",
       "<style scoped>\n",
       "    .dataframe tbody tr th:only-of-type {\n",
       "        vertical-align: middle;\n",
       "    }\n",
       "\n",
       "    .dataframe tbody tr th {\n",
       "        vertical-align: top;\n",
       "    }\n",
       "\n",
       "    .dataframe thead th {\n",
       "        text-align: right;\n",
       "    }\n",
       "</style>\n",
       "<table border=\"1\" class=\"dataframe\">\n",
       "  <thead>\n",
       "    <tr style=\"text-align: right;\">\n",
       "      <th></th>\n",
       "      <th>age</th>\n",
       "      <th>sex</th>\n",
       "      <th>thalach</th>\n",
       "      <th>target</th>\n",
       "    </tr>\n",
       "  </thead>\n",
       "  <tbody>\n",
       "    <tr>\n",
       "      <th>0</th>\n",
       "      <td>63</td>\n",
       "      <td>male</td>\n",
       "      <td>150</td>\n",
       "      <td>1</td>\n",
       "    </tr>\n",
       "    <tr>\n",
       "      <th>1</th>\n",
       "      <td>37</td>\n",
       "      <td>male</td>\n",
       "      <td>187</td>\n",
       "      <td>1</td>\n",
       "    </tr>\n",
       "    <tr>\n",
       "      <th>2</th>\n",
       "      <td>41</td>\n",
       "      <td>female</td>\n",
       "      <td>172</td>\n",
       "      <td>1</td>\n",
       "    </tr>\n",
       "    <tr>\n",
       "      <th>3</th>\n",
       "      <td>56</td>\n",
       "      <td>male</td>\n",
       "      <td>178</td>\n",
       "      <td>1</td>\n",
       "    </tr>\n",
       "    <tr>\n",
       "      <th>4</th>\n",
       "      <td>57</td>\n",
       "      <td>female</td>\n",
       "      <td>163</td>\n",
       "      <td>1</td>\n",
       "    </tr>\n",
       "  </tbody>\n",
       "</table>\n",
       "</div>"
      ],
      "text/plain": [
       "   age     sex  thalach  target\n",
       "0   63    male      150       1\n",
       "1   37    male      187       1\n",
       "2   41  female      172       1\n",
       "3   56    male      178       1\n",
       "4   57  female      163       1"
      ]
     },
     "execution_count": 33,
     "metadata": {},
     "output_type": "execute_result"
    }
   ],
   "source": [
    "# Select only these variables\n",
    "thalach_df = df[['age','sex', 'thalach','target']]\n",
    "thalach_df.head()"
   ]
  },
  {
   "cell_type": "code",
   "execution_count": 34,
   "id": "english-ability",
   "metadata": {},
   "outputs": [
    {
     "data": {
      "image/png": "[encoded data removed]",
      "text/plain": [
       "<Figure size 1036.8x432 with 2 Axes>"
      ]
     },
     "metadata": {},
     "output_type": "display_data"
    }
   ],
   "source": [
    "# plot a scatter plot and find the trend between age, and maximum heart rate with target overlay\n",
    "g = sns.lmplot(x=\"age\", y=\"thalach\", col=\"target\", hue=\"target\", data=thalach_df,\n",
    "           col_wrap=2, ci=None, palette=\"dark\", height=6, aspect = 1.2,\n",
    "           scatter_kws={\"s\": 50, \"alpha\": 1})\n",
    "g.set_axis_labels(\"Age\", \"Maximum Heart Rate\")\n",
    "plt.show()"
   ]
  },
  {
   "cell_type": "markdown",
   "id": "61cc0c57",
   "metadata": {},
   "source": [
    "#### 3.6 Exploring Exercise Induced Angina -  \"exang\" variable "
   ]
  },
  {
   "cell_type": "code",
   "execution_count": 35,
   "id": "3422f9b8",
   "metadata": {},
   "outputs": [
    {
     "data": {
      "text/html": [
       "<div>\n",
       "<style scoped>\n",
       "    .dataframe tbody tr th:only-of-type {\n",
       "        vertical-align: middle;\n",
       "    }\n",
       "\n",
       "    .dataframe tbody tr th {\n",
       "        vertical-align: top;\n",
       "    }\n",
       "\n",
       "    .dataframe thead th {\n",
       "        text-align: right;\n",
       "    }\n",
       "</style>\n",
       "<table border=\"1\" class=\"dataframe\">\n",
       "  <thead>\n",
       "    <tr style=\"text-align: right;\">\n",
       "      <th></th>\n",
       "      <th>exang</th>\n",
       "      <th>target</th>\n",
       "    </tr>\n",
       "  </thead>\n",
       "  <tbody>\n",
       "    <tr>\n",
       "      <th>0</th>\n",
       "      <td>No Ex Angina</td>\n",
       "      <td>1</td>\n",
       "    </tr>\n",
       "    <tr>\n",
       "      <th>1</th>\n",
       "      <td>No Ex Angina</td>\n",
       "      <td>1</td>\n",
       "    </tr>\n",
       "    <tr>\n",
       "      <th>2</th>\n",
       "      <td>No Ex Angina</td>\n",
       "      <td>1</td>\n",
       "    </tr>\n",
       "    <tr>\n",
       "      <th>3</th>\n",
       "      <td>No Ex Angina</td>\n",
       "      <td>1</td>\n",
       "    </tr>\n",
       "    <tr>\n",
       "      <th>4</th>\n",
       "      <td>Exercise Angina</td>\n",
       "      <td>1</td>\n",
       "    </tr>\n",
       "  </tbody>\n",
       "</table>\n",
       "</div>"
      ],
      "text/plain": [
       "             exang  target\n",
       "0     No Ex Angina       1\n",
       "1     No Ex Angina       1\n",
       "2     No Ex Angina       1\n",
       "3     No Ex Angina       1\n",
       "4  Exercise Angina       1"
      ]
     },
     "execution_count": 35,
     "metadata": {},
     "output_type": "execute_result"
    }
   ],
   "source": [
    "exang_df = df[['exang','target']] # look at exang and target variables\n",
    "exang_df.head()"
   ]
  },
  {
   "cell_type": "code",
   "execution_count": 36,
   "id": "76dbe4ff",
   "metadata": {},
   "outputs": [
    {
     "data": {
      "image/png": "[encoded data removed]",
      "text/plain": [
       "<Figure size 432x360 with 1 Axes>"
      ]
     },
     "metadata": {},
     "output_type": "display_data"
    }
   ],
   "source": [
    "sns.set_theme(style=\"whitegrid\")\n",
    "\n",
    "# Set up a grid to plot heart disease probability against Chest Pain Angina Types\n",
    "g = sns.PairGrid(exang_df, y_vars=\"target\",\n",
    "                 x_vars=[\"exang\"],\n",
    "                 height=5, aspect=1.2)\n",
    "\n",
    "# Draw a seaborn pointplot onto each Axes\n",
    "g.map(sns.pointplot, scale=1.3, errwidth=4, color=\"xkcd:plum\")\n",
    "g.set(ylim=(0, 1))\n",
    "g.axes[0,0].set_title(\"Presence of Heart Disease Between Angina Types\")\n",
    "g.axes[0,0].set_xlabel('Angina Types')\n",
    "g.axes[0,0].set_ylabel('Probability of Heart Disease')\n",
    "#g.axes[0,1].set_xlabel('axes label 2')\n",
    "sns.despine(fig=g.fig, left=True)"
   ]
  },
  {
   "cell_type": "markdown",
   "id": "d2e1d0a4",
   "metadata": {},
   "source": [
    "#### 3.7 Find the correlaiton between all variables "
   ]
  },
  {
   "cell_type": "code",
   "execution_count": 37,
   "id": "8ccca8c3",
   "metadata": {},
   "outputs": [
    {
     "data": {
      "text/html": [
       "<div>\n",
       "<style scoped>\n",
       "    .dataframe tbody tr th:only-of-type {\n",
       "        vertical-align: middle;\n",
       "    }\n",
       "\n",
       "    .dataframe tbody tr th {\n",
       "        vertical-align: top;\n",
       "    }\n",
       "\n",
       "    .dataframe thead th {\n",
       "        text-align: right;\n",
       "    }\n",
       "</style>\n",
       "<table border=\"1\" class=\"dataframe\">\n",
       "  <thead>\n",
       "    <tr style=\"text-align: right;\">\n",
       "      <th></th>\n",
       "      <th>age</th>\n",
       "      <th>trestbps</th>\n",
       "      <th>chol</th>\n",
       "      <th>thalach</th>\n",
       "      <th>oldpeak</th>\n",
       "    </tr>\n",
       "  </thead>\n",
       "  <tbody>\n",
       "    <tr>\n",
       "      <th>0</th>\n",
       "      <td>63</td>\n",
       "      <td>145</td>\n",
       "      <td>233</td>\n",
       "      <td>150</td>\n",
       "      <td>2.3</td>\n",
       "    </tr>\n",
       "    <tr>\n",
       "      <th>1</th>\n",
       "      <td>37</td>\n",
       "      <td>130</td>\n",
       "      <td>250</td>\n",
       "      <td>187</td>\n",
       "      <td>3.5</td>\n",
       "    </tr>\n",
       "    <tr>\n",
       "      <th>2</th>\n",
       "      <td>41</td>\n",
       "      <td>130</td>\n",
       "      <td>204</td>\n",
       "      <td>172</td>\n",
       "      <td>1.4</td>\n",
       "    </tr>\n",
       "    <tr>\n",
       "      <th>3</th>\n",
       "      <td>56</td>\n",
       "      <td>120</td>\n",
       "      <td>236</td>\n",
       "      <td>178</td>\n",
       "      <td>0.8</td>\n",
       "    </tr>\n",
       "    <tr>\n",
       "      <th>4</th>\n",
       "      <td>57</td>\n",
       "      <td>120</td>\n",
       "      <td>354</td>\n",
       "      <td>163</td>\n",
       "      <td>0.6</td>\n",
       "    </tr>\n",
       "  </tbody>\n",
       "</table>\n",
       "</div>"
      ],
      "text/plain": [
       "   age  trestbps  chol  thalach  oldpeak\n",
       "0   63       145   233      150      2.3\n",
       "1   37       130   250      187      3.5\n",
       "2   41       130   204      172      1.4\n",
       "3   56       120   236      178      0.8\n",
       "4   57       120   354      163      0.6"
      ]
     },
     "execution_count": 37,
     "metadata": {},
     "output_type": "execute_result"
    }
   ],
   "source": [
    "# Look at only continuous variables\n",
    "corr_df = df[['age','trestbps','chol','thalach','oldpeak']]\n",
    "corr_df.head()"
   ]
  },
  {
   "cell_type": "code",
   "execution_count": 38,
   "id": "7c2995fd",
   "metadata": {},
   "outputs": [
    {
     "data": {
      "text/html": [
       "<div>\n",
       "<style scoped>\n",
       "    .dataframe tbody tr th:only-of-type {\n",
       "        vertical-align: middle;\n",
       "    }\n",
       "\n",
       "    .dataframe tbody tr th {\n",
       "        vertical-align: top;\n",
       "    }\n",
       "\n",
       "    .dataframe thead th {\n",
       "        text-align: right;\n",
       "    }\n",
       "</style>\n",
       "<table border=\"1\" class=\"dataframe\">\n",
       "  <thead>\n",
       "    <tr style=\"text-align: right;\">\n",
       "      <th></th>\n",
       "      <th>age</th>\n",
       "      <th>trestbps</th>\n",
       "      <th>chol</th>\n",
       "      <th>thalach</th>\n",
       "      <th>oldpeak</th>\n",
       "    </tr>\n",
       "  </thead>\n",
       "  <tbody>\n",
       "    <tr>\n",
       "      <th>age</th>\n",
       "      <td>1.000000</td>\n",
       "      <td>0.283121</td>\n",
       "      <td>0.207216</td>\n",
       "      <td>-0.395235</td>\n",
       "      <td>0.206040</td>\n",
       "    </tr>\n",
       "    <tr>\n",
       "      <th>trestbps</th>\n",
       "      <td>0.283121</td>\n",
       "      <td>1.000000</td>\n",
       "      <td>0.125256</td>\n",
       "      <td>-0.048023</td>\n",
       "      <td>0.194600</td>\n",
       "    </tr>\n",
       "    <tr>\n",
       "      <th>chol</th>\n",
       "      <td>0.207216</td>\n",
       "      <td>0.125256</td>\n",
       "      <td>1.000000</td>\n",
       "      <td>-0.005308</td>\n",
       "      <td>0.050086</td>\n",
       "    </tr>\n",
       "    <tr>\n",
       "      <th>thalach</th>\n",
       "      <td>-0.395235</td>\n",
       "      <td>-0.048023</td>\n",
       "      <td>-0.005308</td>\n",
       "      <td>1.000000</td>\n",
       "      <td>-0.342201</td>\n",
       "    </tr>\n",
       "    <tr>\n",
       "      <th>oldpeak</th>\n",
       "      <td>0.206040</td>\n",
       "      <td>0.194600</td>\n",
       "      <td>0.050086</td>\n",
       "      <td>-0.342201</td>\n",
       "      <td>1.000000</td>\n",
       "    </tr>\n",
       "  </tbody>\n",
       "</table>\n",
       "</div>"
      ],
      "text/plain": [
       "               age  trestbps      chol   thalach   oldpeak\n",
       "age       1.000000  0.283121  0.207216 -0.395235  0.206040\n",
       "trestbps  0.283121  1.000000  0.125256 -0.048023  0.194600\n",
       "chol      0.207216  0.125256  1.000000 -0.005308  0.050086\n",
       "thalach  -0.395235 -0.048023 -0.005308  1.000000 -0.342201\n",
       "oldpeak   0.206040  0.194600  0.050086 -0.342201  1.000000"
      ]
     },
     "execution_count": 38,
     "metadata": {},
     "output_type": "execute_result"
    },
    {
     "data": {
      "image/png": "[encoded data removed]",
      "text/plain": [
       "<Figure size 1440x720 with 2 Axes>"
      ]
     },
     "metadata": {},
     "output_type": "display_data"
    }
   ],
   "source": [
    "#Find relationship between all variables\n",
    "plt.figure(figsize=(20,10))\n",
    "# Create a correlation matrix\n",
    "c = corr_df.corr()\n",
    "# Plot heat map of correlation matrix\n",
    "sns.heatmap(c,cmap='BrBG',annot=True)\n",
    "# print correlation matrix as well\n",
    "c"
   ]
  },
  {
   "cell_type": "markdown",
   "id": "monthly-novel",
   "metadata": {},
   "source": [
    "-----------\n",
    "### 4. Setup Phase\n",
    "- After exploring the data, we want to create a pipeline for all the necessary cleaning we have done into a function \n",
    "- By doing so, we will be aware of what went through the data cleaning process and have it all in one place\n",
    "- The following funciton will call the original data, then one hot label encode the categorical variables and finally standardization before splitting the data into train and test sets."
   ]
  },
  {
   "cell_type": "code",
   "execution_count": 39,
   "id": "4a2acec1",
   "metadata": {},
   "outputs": [],
   "source": [
    "def preprocessing(): \n",
    "    # read original data \n",
    "    df = pd.read_csv(\"heart.csv\")\n",
    "    \n",
    "    # Drop Duplicate Rows \n",
    "    # return a new dataframe by dropping a \n",
    "    # row 'c' from dataframe\n",
    "    df = df.drop(dup_index)\n",
    "\n",
    "    # returns empty data frame because there are no longer any duplicate rows\n",
    "    df[df.duplicated(keep = 'first')]\n",
    "\n",
    "    # One Hot label encoding\n",
    "    a = pd.get_dummies(df['cp'], prefix = \"cp\") # get dummy variables for chest pain\n",
    "    b = pd.get_dummies(df['thal'], prefix = \"thal\") # get dummy variables for thal\n",
    "    c = pd.get_dummies(df['slope'], prefix = \"slope\") # get dummy variables for slope\n",
    "    d = pd.get_dummies(df['restecg'], prefix = \"restecg\") # get dummy variables for restecg\n",
    "    frames = [df, a, b, c, d] # append them as a list\n",
    "    df = pd.concat(frames, axis = 1) # concate the list into a data frame\n",
    "    df = df.drop(columns = ['cp', 'thal', 'slope', \"restecg\"]) # drop the original list\n",
    "\n",
    "    # Standardize Continuous Variables using min-max scaler\n",
    "    df = pd.DataFrame(MinMaxScaler().fit_transform(df), columns = df.columns)\n",
    "    \n",
    "    return df"
   ]
  },
  {
   "cell_type": "code",
   "execution_count": 40,
   "id": "actual-margin",
   "metadata": {},
   "outputs": [
    {
     "data": {
      "text/html": [
       "<div>\n",
       "<style scoped>\n",
       "    .dataframe tbody tr th:only-of-type {\n",
       "        vertical-align: middle;\n",
       "    }\n",
       "\n",
       "    .dataframe tbody tr th {\n",
       "        vertical-align: top;\n",
       "    }\n",
       "\n",
       "    .dataframe thead th {\n",
       "        text-align: right;\n",
       "    }\n",
       "</style>\n",
       "<table border=\"1\" class=\"dataframe\">\n",
       "  <thead>\n",
       "    <tr style=\"text-align: right;\">\n",
       "      <th></th>\n",
       "      <th>age</th>\n",
       "      <th>sex</th>\n",
       "      <th>trestbps</th>\n",
       "      <th>chol</th>\n",
       "      <th>fbs</th>\n",
       "      <th>thalach</th>\n",
       "      <th>exang</th>\n",
       "      <th>oldpeak</th>\n",
       "      <th>ca</th>\n",
       "      <th>cp_0</th>\n",
       "      <th>...</th>\n",
       "      <th>thal_0</th>\n",
       "      <th>thal_1</th>\n",
       "      <th>thal_2</th>\n",
       "      <th>thal_3</th>\n",
       "      <th>slope_0</th>\n",
       "      <th>slope_1</th>\n",
       "      <th>slope_2</th>\n",
       "      <th>restecg_0</th>\n",
       "      <th>restecg_1</th>\n",
       "      <th>restecg_2</th>\n",
       "    </tr>\n",
       "  </thead>\n",
       "  <tbody>\n",
       "    <tr>\n",
       "      <th>0</th>\n",
       "      <td>0.708333</td>\n",
       "      <td>1.0</td>\n",
       "      <td>0.481132</td>\n",
       "      <td>0.244292</td>\n",
       "      <td>1.0</td>\n",
       "      <td>0.603053</td>\n",
       "      <td>0.0</td>\n",
       "      <td>0.370968</td>\n",
       "      <td>0.0</td>\n",
       "      <td>0.0</td>\n",
       "      <td>...</td>\n",
       "      <td>0.0</td>\n",
       "      <td>1.0</td>\n",
       "      <td>0.0</td>\n",
       "      <td>0.0</td>\n",
       "      <td>1.0</td>\n",
       "      <td>0.0</td>\n",
       "      <td>0.0</td>\n",
       "      <td>1.0</td>\n",
       "      <td>0.0</td>\n",
       "      <td>0.0</td>\n",
       "    </tr>\n",
       "    <tr>\n",
       "      <th>1</th>\n",
       "      <td>0.166667</td>\n",
       "      <td>1.0</td>\n",
       "      <td>0.339623</td>\n",
       "      <td>0.283105</td>\n",
       "      <td>0.0</td>\n",
       "      <td>0.885496</td>\n",
       "      <td>0.0</td>\n",
       "      <td>0.564516</td>\n",
       "      <td>0.0</td>\n",
       "      <td>0.0</td>\n",
       "      <td>...</td>\n",
       "      <td>0.0</td>\n",
       "      <td>0.0</td>\n",
       "      <td>1.0</td>\n",
       "      <td>0.0</td>\n",
       "      <td>1.0</td>\n",
       "      <td>0.0</td>\n",
       "      <td>0.0</td>\n",
       "      <td>0.0</td>\n",
       "      <td>1.0</td>\n",
       "      <td>0.0</td>\n",
       "    </tr>\n",
       "    <tr>\n",
       "      <th>2</th>\n",
       "      <td>0.250000</td>\n",
       "      <td>0.0</td>\n",
       "      <td>0.339623</td>\n",
       "      <td>0.178082</td>\n",
       "      <td>0.0</td>\n",
       "      <td>0.770992</td>\n",
       "      <td>0.0</td>\n",
       "      <td>0.225806</td>\n",
       "      <td>0.0</td>\n",
       "      <td>0.0</td>\n",
       "      <td>...</td>\n",
       "      <td>0.0</td>\n",
       "      <td>0.0</td>\n",
       "      <td>1.0</td>\n",
       "      <td>0.0</td>\n",
       "      <td>0.0</td>\n",
       "      <td>0.0</td>\n",
       "      <td>1.0</td>\n",
       "      <td>1.0</td>\n",
       "      <td>0.0</td>\n",
       "      <td>0.0</td>\n",
       "    </tr>\n",
       "    <tr>\n",
       "      <th>3</th>\n",
       "      <td>0.562500</td>\n",
       "      <td>1.0</td>\n",
       "      <td>0.245283</td>\n",
       "      <td>0.251142</td>\n",
       "      <td>0.0</td>\n",
       "      <td>0.816794</td>\n",
       "      <td>0.0</td>\n",
       "      <td>0.129032</td>\n",
       "      <td>0.0</td>\n",
       "      <td>0.0</td>\n",
       "      <td>...</td>\n",
       "      <td>0.0</td>\n",
       "      <td>0.0</td>\n",
       "      <td>1.0</td>\n",
       "      <td>0.0</td>\n",
       "      <td>0.0</td>\n",
       "      <td>0.0</td>\n",
       "      <td>1.0</td>\n",
       "      <td>0.0</td>\n",
       "      <td>1.0</td>\n",
       "      <td>0.0</td>\n",
       "    </tr>\n",
       "    <tr>\n",
       "      <th>4</th>\n",
       "      <td>0.583333</td>\n",
       "      <td>0.0</td>\n",
       "      <td>0.245283</td>\n",
       "      <td>0.520548</td>\n",
       "      <td>0.0</td>\n",
       "      <td>0.702290</td>\n",
       "      <td>1.0</td>\n",
       "      <td>0.096774</td>\n",
       "      <td>0.0</td>\n",
       "      <td>1.0</td>\n",
       "      <td>...</td>\n",
       "      <td>0.0</td>\n",
       "      <td>0.0</td>\n",
       "      <td>1.0</td>\n",
       "      <td>0.0</td>\n",
       "      <td>0.0</td>\n",
       "      <td>0.0</td>\n",
       "      <td>1.0</td>\n",
       "      <td>0.0</td>\n",
       "      <td>1.0</td>\n",
       "      <td>0.0</td>\n",
       "    </tr>\n",
       "  </tbody>\n",
       "</table>\n",
       "<p>5 rows × 23 columns</p>\n",
       "</div>"
      ],
      "text/plain": [
       "        age  sex  trestbps      chol  fbs   thalach  exang   oldpeak   ca  \\\n",
       "0  0.708333  1.0  0.481132  0.244292  1.0  0.603053    0.0  0.370968  0.0   \n",
       "1  0.166667  1.0  0.339623  0.283105  0.0  0.885496    0.0  0.564516  0.0   \n",
       "2  0.250000  0.0  0.339623  0.178082  0.0  0.770992    0.0  0.225806  0.0   \n",
       "3  0.562500  1.0  0.245283  0.251142  0.0  0.816794    0.0  0.129032  0.0   \n",
       "4  0.583333  0.0  0.245283  0.520548  0.0  0.702290    1.0  0.096774  0.0   \n",
       "\n",
       "   cp_0  ...  thal_0  thal_1  thal_2  thal_3  slope_0  slope_1  slope_2  \\\n",
       "0   0.0  ...     0.0     1.0     0.0     0.0      1.0      0.0      0.0   \n",
       "1   0.0  ...     0.0     0.0     1.0     0.0      1.0      0.0      0.0   \n",
       "2   0.0  ...     0.0     0.0     1.0     0.0      0.0      0.0      1.0   \n",
       "3   0.0  ...     0.0     0.0     1.0     0.0      0.0      0.0      1.0   \n",
       "4   1.0  ...     0.0     0.0     1.0     0.0      0.0      0.0      1.0   \n",
       "\n",
       "   restecg_0  restecg_1  restecg_2  \n",
       "0        1.0        0.0        0.0  \n",
       "1        0.0        1.0        0.0  \n",
       "2        1.0        0.0        0.0  \n",
       "3        0.0        1.0        0.0  \n",
       "4        0.0        1.0        0.0  \n",
       "\n",
       "[5 rows x 23 columns]"
      ]
     },
     "execution_count": 40,
     "metadata": {},
     "output_type": "execute_result"
    }
   ],
   "source": [
    "# call preprocessing function on data frame and drop target column\n",
    "X = preprocessing().drop(columns = \"target\") \n",
    "X.head() # show first 5 rows\n"
   ]
  },
  {
   "cell_type": "code",
   "execution_count": 41,
   "id": "automatic-smell",
   "metadata": {},
   "outputs": [
    {
     "data": {
      "text/html": [
       "<div>\n",
       "<style scoped>\n",
       "    .dataframe tbody tr th:only-of-type {\n",
       "        vertical-align: middle;\n",
       "    }\n",
       "\n",
       "    .dataframe tbody tr th {\n",
       "        vertical-align: top;\n",
       "    }\n",
       "\n",
       "    .dataframe thead th {\n",
       "        text-align: right;\n",
       "    }\n",
       "</style>\n",
       "<table border=\"1\" class=\"dataframe\">\n",
       "  <thead>\n",
       "    <tr style=\"text-align: right;\">\n",
       "      <th></th>\n",
       "      <th>target</th>\n",
       "    </tr>\n",
       "  </thead>\n",
       "  <tbody>\n",
       "    <tr>\n",
       "      <th>0</th>\n",
       "      <td>1.0</td>\n",
       "    </tr>\n",
       "    <tr>\n",
       "      <th>1</th>\n",
       "      <td>1.0</td>\n",
       "    </tr>\n",
       "    <tr>\n",
       "      <th>2</th>\n",
       "      <td>1.0</td>\n",
       "    </tr>\n",
       "    <tr>\n",
       "      <th>3</th>\n",
       "      <td>1.0</td>\n",
       "    </tr>\n",
       "    <tr>\n",
       "      <th>4</th>\n",
       "      <td>1.0</td>\n",
       "    </tr>\n",
       "  </tbody>\n",
       "</table>\n",
       "</div>"
      ],
      "text/plain": [
       "   target\n",
       "0     1.0\n",
       "1     1.0\n",
       "2     1.0\n",
       "3     1.0\n",
       "4     1.0"
      ]
     },
     "execution_count": 41,
     "metadata": {},
     "output_type": "execute_result"
    }
   ],
   "source": [
    "# Extract target variable from preprocessed dataframe\n",
    "y = preprocessing()[['target']] \n",
    "y.head()"
   ]
  },
  {
   "cell_type": "markdown",
   "id": "mexican-invention",
   "metadata": {},
   "source": [
    "#### 4.1 Check for class imbalance problem"
   ]
  },
  {
   "cell_type": "code",
   "execution_count": 42,
   "id": "prospective-launch",
   "metadata": {},
   "outputs": [
    {
     "data": {
      "text/html": [
       "<div>\n",
       "<style scoped>\n",
       "    .dataframe tbody tr th:only-of-type {\n",
       "        vertical-align: middle;\n",
       "    }\n",
       "\n",
       "    .dataframe tbody tr th {\n",
       "        vertical-align: top;\n",
       "    }\n",
       "\n",
       "    .dataframe thead th {\n",
       "        text-align: right;\n",
       "    }\n",
       "</style>\n",
       "<table border=\"1\" class=\"dataframe\">\n",
       "  <thead>\n",
       "    <tr style=\"text-align: right;\">\n",
       "      <th></th>\n",
       "      <th>Class Size %</th>\n",
       "    </tr>\n",
       "    <tr>\n",
       "      <th>target</th>\n",
       "      <th></th>\n",
       "    </tr>\n",
       "  </thead>\n",
       "  <tbody>\n",
       "    <tr>\n",
       "      <th>1.0</th>\n",
       "      <td>0.54</td>\n",
       "    </tr>\n",
       "    <tr>\n",
       "      <th>0.0</th>\n",
       "      <td>0.46</td>\n",
       "    </tr>\n",
       "  </tbody>\n",
       "</table>\n",
       "</div>"
      ],
      "text/plain": [
       "        Class Size %\n",
       "target              \n",
       "1.0             0.54\n",
       "0.0             0.46"
      ]
     },
     "execution_count": 42,
     "metadata": {},
     "output_type": "execute_result"
    }
   ],
   "source": [
    "# look at the proportion of the classes in target variable\n",
    "pd.DataFrame(round(y.value_counts() / len(y),2), columns =[\"Class Size %\"])"
   ]
  },
  {
   "cell_type": "markdown",
   "id": "reverse-butler",
   "metadata": {},
   "source": [
    "**Conclusion**: There is no class imbalance problem in this data set"
   ]
  },
  {
   "cell_type": "markdown",
   "id": "hispanic-chance",
   "metadata": {},
   "source": [
    "#### 4.2 Split data into a train-test-validation dataset"
   ]
  },
  {
   "cell_type": "markdown",
   "id": "universal-lesson",
   "metadata": {},
   "source": [
    "**Train Test Split**"
   ]
  },
  {
   "cell_type": "code",
   "execution_count": 43,
   "id": "dedicated-ending",
   "metadata": {},
   "outputs": [
    {
     "name": "stdout",
     "output_type": "stream",
     "text": [
      "X_train.shape:  (241, 23)\n",
      "X_test.shape:   (61, 23)\n",
      "y_train.shape:  (241, 1)\n",
      "y_test.shape:   (61, 1)\n"
     ]
    }
   ],
   "source": [
    "# split data to training and test size with 80/20 \n",
    "X_train, X_test, y_train, y_test = train_test_split(X,y, test_size=0.2, random_state=7) \n",
    "print('X_train.shape: ', X_train.shape) # Training Features shape\n",
    "print('X_test.shape:  ', X_test.shape) # Test Features shape\n",
    "print('y_train.shape: ', y_train.shape) # Training Target shape\n",
    "print('y_test.shape:  ', y_test.shape) # Test Target shape"
   ]
  },
  {
   "cell_type": "markdown",
   "id": "handled-absolute",
   "metadata": {},
   "source": [
    "#### 4.3 Validating our partition "
   ]
  },
  {
   "cell_type": "code",
   "execution_count": 44,
   "id": "ongoing-retail",
   "metadata": {},
   "outputs": [
    {
     "data": {
      "image/png": "[encoded data removed]",
      "text/plain": [
       "<Figure size 576x396 with 1 Axes>"
      ]
     },
     "metadata": {},
     "output_type": "display_data"
    }
   ],
   "source": [
    "# create data frame for training and test partition size\n",
    "part = pd.DataFrame({'Partition':['Train','Test'],\n",
    "                    'Portion':[(X_train.shape[0]/df.shape[0]), \n",
    "                              (X_test.shape[0]/df.shape[0])]}) \n",
    "\n",
    "# plot bar chart for the size of the partition sets\n",
    "sns.barplot(x=\"Partition\", y=\"Portion\", data=part) \n",
    "plt.title(\"Train and Test set Splits\")\n",
    "plt.show()"
   ]
  },
  {
   "cell_type": "markdown",
   "id": "surprising-uncle",
   "metadata": {},
   "source": [
    "**Two-sample Z-test for the difference in proportions**"
   ]
  },
  {
   "cell_type": "code",
   "execution_count": 45,
   "id": "recovered-cleanup",
   "metadata": {},
   "outputs": [
    {
     "data": {
      "text/plain": [
       "Ttest_indResult(statistic=0.6058336573010887, pvalue=0.5461178160277528)"
      ]
     },
     "execution_count": 45,
     "metadata": {},
     "output_type": "execute_result"
    }
   ],
   "source": [
    "ttest_ind(y_train['target'], y_test['target'], equal_var= False) # perform two sample t test "
   ]
  },
  {
   "cell_type": "code",
   "execution_count": 46,
   "id": "earned-england",
   "metadata": {},
   "outputs": [
    {
     "name": "stdout",
     "output_type": "stream",
     "text": [
      "Z-statistic =  0.611651 , P-value =  0.540769\n"
     ]
    }
   ],
   "source": [
    "n1 = y_train.shape[0]\n",
    "x1 = y_train.loc[y_train['target'] == 1].shape[0] # training set for positive class\n",
    "p1 = x1/n1\n",
    "\n",
    "n2 = y_test.shape[0]\n",
    "x2 = y_test.loc[y_test['target'] == 1].shape[0] # test set for positive class\n",
    "p2 = x2/n2\n",
    "\n",
    "p = (x1 + x2)/ (n1 + n2)\n",
    "\n",
    "\n",
    "\n",
    "# Calculate Z value\n",
    "z = round(((p1-p2)-0)/sqrt(p*(1-p)*(1/n1+1/n2)),6)\n",
    "\n",
    "# Calculate p-value\n",
    "pval = round(2 * (1 - norm.cdf(abs(z))), 6)\n",
    "\n",
    "print(\"Z-statistic = \", z, \",\", \"P-value = \", pval)"
   ]
  },
  {
   "cell_type": "markdown",
   "id": "bacterial-lawsuit",
   "metadata": {},
   "source": [
    "**Conclusion for Validating the partition**"
   ]
  },
  {
   "cell_type": "markdown",
   "id": "agreed-framework",
   "metadata": {},
   "source": [
    "**Null hypothesis:** Two group proportions are equal between training set and test\n",
    "\n",
    "\n",
    "**Alternative hypothesis:** Two group proportions are different between training and test set\n",
    "\n",
    "\n",
    "\n",
    "**Conclusion:** The p value obtained from the Z-test is not significant (p > 0.05), and therefore, we failed to\n",
    "\n",
    "reject the null hypothesis and conclude that the proportion between the training set and test of the '1' values in \n",
    "the‘Target’ column are equal"
   ]
  },
  {
   "cell_type": "markdown",
   "id": "portable-surveillance",
   "metadata": {},
   "source": [
    "#### 4.6 Establashing Baseline Model Performance\n",
    "- Baseline models for binary classification \n",
    "- Let the value of **1** from the target variable represent _positive_ and **0** represent _negative_\n",
    "- Let _p_ represent the proportion of positive records in the data.\n",
    "\n",
    "\n",
    "1. **All Positive Model**\n",
    "- The accuracy of the all positive model is 54.3%"
   ]
  },
  {
   "cell_type": "code",
   "execution_count": 47,
   "id": "f04ce04a",
   "metadata": {},
   "outputs": [
    {
     "name": "stdout",
     "output_type": "stream",
     "text": [
      "All Positive Model's Accuracy: 54.3 %\n"
     ]
    }
   ],
   "source": [
    "# all positive model accuracy\n",
    "positive_acc = round(len(df[df['target'] == 1]) / len(df),3) \n",
    "print(\"All Positive Model's Accuracy:\", round(positive_acc * 100,3), \"%\")"
   ]
  },
  {
   "cell_type": "markdown",
   "id": "93f86ca1",
   "metadata": {},
   "source": [
    "2. **All Negative Model**\n",
    "- The accuracy of the all negative model is 45.7%"
   ]
  },
  {
   "cell_type": "code",
   "execution_count": 48,
   "id": "a1c9f780",
   "metadata": {},
   "outputs": [
    {
     "name": "stdout",
     "output_type": "stream",
     "text": [
      "All Negative Model's Accuracy: 45.7 %\n"
     ]
    }
   ],
   "source": [
    "# all negative model accuracy\n",
    "negative_acc = round(1- positive_acc,3) \n",
    "print(\"All Negative Model's Accuracy:\", round(negative_acc * 100,3), \"%\")"
   ]
  },
  {
   "cell_type": "markdown",
   "id": "7d37ef11",
   "metadata": {},
   "source": [
    "**Conclusion for Baseline Model Performance:**\n",
    "- _Any model that we develope will need to beat this 45.8% accuracy to be considered useful._"
   ]
  },
  {
   "cell_type": "markdown",
   "id": "9667e2d0",
   "metadata": {},
   "source": [
    "-----\n",
    "### 5. Modeling Phase"
   ]
  },
  {
   "cell_type": "markdown",
   "id": "vocational-finger",
   "metadata": {},
   "source": [
    "#### 5.1 Gaussian Naive Bayesian Model"
   ]
  },
  {
   "cell_type": "code",
   "execution_count": 49,
   "id": "41426d6c",
   "metadata": {},
   "outputs": [
    {
     "data": {
      "text/plain": [
       "array([0., 1., 0., 1., 1., 0., 0., 1., 1., 0., 1., 0., 0., 1., 0., 0., 1.,\n",
       "       1., 0., 1., 0., 1., 0., 1., 1., 0., 1., 1., 1., 1., 1., 1., 1., 1.,\n",
       "       0., 1., 1., 0., 1., 0., 1., 0., 0., 1., 0., 0., 0., 0., 1., 0., 1.,\n",
       "       0., 1., 0., 0., 1., 1., 0., 0., 1., 1.])"
      ]
     },
     "execution_count": 49,
     "metadata": {},
     "output_type": "execute_result"
    }
   ],
   "source": [
    "nb = GaussianNB().fit(X_train, y_train) # gaussain naive model\n",
    "y_pred = nb.predict(X_test) # model predictions\n",
    "y_pred"
   ]
  },
  {
   "cell_type": "markdown",
   "id": "bridal-sarah",
   "metadata": {},
   "source": [
    "#### 5.2 Logistic Regression Model"
   ]
  },
  {
   "cell_type": "code",
   "execution_count": 50,
   "id": "emerging-static",
   "metadata": {},
   "outputs": [
    {
     "name": "stdout",
     "output_type": "stream",
     "text": [
      "X_train.shape:  (241, 23)\n",
      "X_test.shape:   (61, 23)\n",
      "y_train.shape:  (241, 1)\n",
      "y_test.shape:   (61, 1)\n"
     ]
    }
   ],
   "source": [
    "X_train_log, X_test_log, y_train_log, y_test_log= train_test_split(X,y, test_size=0.2, random_state=7) # split data for log model\n",
    "print('X_train.shape: ', X_train_log.shape)\n",
    "print('X_test.shape:  ', X_test_log.shape)\n",
    "print('y_train.shape: ', y_train_log.shape)\n",
    "print('y_test.shape:  ', y_test_log.shape)"
   ]
  },
  {
   "cell_type": "code",
   "execution_count": 51,
   "id": "auburn-semester",
   "metadata": {},
   "outputs": [
    {
     "data": {
      "text/plain": [
       "array([0, 1, 0, 0, 1, 0, 0, 1, 0, 0, 1, 0, 0, 1, 0, 0, 1, 1, 0, 1, 0, 1,\n",
       "       0, 1, 1, 0, 1, 1, 1, 1, 1, 1, 0, 1, 0, 1, 1, 0, 1, 0, 0, 0, 0, 0,\n",
       "       0, 0, 0, 0, 1, 0, 1, 0, 0, 0, 0, 0, 0, 0, 0, 1, 1])"
      ]
     },
     "execution_count": 51,
     "metadata": {},
     "output_type": "execute_result"
    }
   ],
   "source": [
    "logit = LogisticRegression().fit(X_train_log, y_train_log) # fit log model to training data \n",
    "thres = 0.7# threshold\n",
    "y_pred_log = np.where(logit.predict_proba(X_test_log)[:,1] > thres, 1, 0) # convert probabilities to positive class if pass threshold\n",
    "y_pred_log"
   ]
  },
  {
   "cell_type": "markdown",
   "id": "threaded-royalty",
   "metadata": {},
   "source": [
    "#### 5.3 Random Forest Model"
   ]
  },
  {
   "cell_type": "code",
   "execution_count": 52,
   "id": "artistic-cylinder",
   "metadata": {},
   "outputs": [
    {
     "name": "stdout",
     "output_type": "stream",
     "text": [
      "X_train.shape:  (241, 23)\n",
      "X_test.shape:   (61, 23)\n",
      "y_train.shape:  (241, 1)\n",
      "y_test.shape:   (61, 1)\n"
     ]
    }
   ],
   "source": [
    "X_train_rf, X_test_rf, y_train_rf, y_test_rf= train_test_split(X,y, test_size=0.2, random_state=7) # split data for random forest model\n",
    "print('X_train.shape: ', X_train_rf.shape)\n",
    "print('X_test.shape:  ', X_test_rf.shape)\n",
    "print('y_train.shape: ', y_train_rf.shape)\n",
    "print('y_test.shape:  ', y_test_rf.shape)"
   ]
  },
  {
   "cell_type": "code",
   "execution_count": 53,
   "id": "stupid-surname",
   "metadata": {},
   "outputs": [
    {
     "data": {
      "text/plain": [
       "array([0., 1., 0., 1., 1., 0., 0., 1., 1., 0., 1., 0., 1., 1., 0., 0., 1.,\n",
       "       1., 0., 1., 0., 1., 1., 1., 1., 0., 1., 1., 1., 1., 1., 1., 1., 1.,\n",
       "       0., 1., 1., 0., 1., 0., 1., 0., 0., 1., 0., 0., 0., 0., 1., 0., 1.,\n",
       "       0., 0., 0., 0., 1., 1., 0., 0., 1., 1.])"
      ]
     },
     "execution_count": 53,
     "metadata": {},
     "output_type": "execute_result"
    }
   ],
   "source": [
    "rf = RandomForestClassifier(n_jobs=2, random_state=0).fit(X_train_rf, y_train_rf) # fit random forest model to training data\n",
    "y_pred_rf = rf.predict(X_test_rf) # random forest predictions\n",
    "y_pred_rf"
   ]
  },
  {
   "cell_type": "markdown",
   "id": "2cf88a9d",
   "metadata": {},
   "source": [
    "-----------\n",
    "### 6. Model Evaluation Phase"
   ]
  },
  {
   "cell_type": "markdown",
   "id": "novel-contamination",
   "metadata": {},
   "source": [
    "#### 6.1 Gaussian Naive Bayes Model "
   ]
  },
  {
   "cell_type": "code",
   "execution_count": 54,
   "id": "858d1cf8",
   "metadata": {},
   "outputs": [
    {
     "data": {
      "text/html": [
       "<div>\n",
       "<style scoped>\n",
       "    .dataframe tbody tr th:only-of-type {\n",
       "        vertical-align: middle;\n",
       "    }\n",
       "\n",
       "    .dataframe tbody tr th {\n",
       "        vertical-align: top;\n",
       "    }\n",
       "\n",
       "    .dataframe thead th {\n",
       "        text-align: right;\n",
       "    }\n",
       "</style>\n",
       "<table border=\"1\" class=\"dataframe\">\n",
       "  <thead>\n",
       "    <tr style=\"text-align: right;\">\n",
       "      <th>Predicted</th>\n",
       "      <th>0.0</th>\n",
       "      <th>1.0</th>\n",
       "      <th>Total</th>\n",
       "    </tr>\n",
       "    <tr>\n",
       "      <th>Actual</th>\n",
       "      <th></th>\n",
       "      <th></th>\n",
       "      <th></th>\n",
       "    </tr>\n",
       "  </thead>\n",
       "  <tbody>\n",
       "    <tr>\n",
       "      <th>0.0</th>\n",
       "      <td>25</td>\n",
       "      <td>5</td>\n",
       "      <td>30</td>\n",
       "    </tr>\n",
       "    <tr>\n",
       "      <th>1.0</th>\n",
       "      <td>3</td>\n",
       "      <td>28</td>\n",
       "      <td>31</td>\n",
       "    </tr>\n",
       "    <tr>\n",
       "      <th>Total</th>\n",
       "      <td>28</td>\n",
       "      <td>33</td>\n",
       "      <td>61</td>\n",
       "    </tr>\n",
       "  </tbody>\n",
       "</table>\n",
       "</div>"
      ],
      "text/plain": [
       "Predicted  0.0  1.0  Total\n",
       "Actual                    \n",
       "0.0         25    5     30\n",
       "1.0          3   28     31\n",
       "Total       28   33     61"
      ]
     },
     "execution_count": 54,
     "metadata": {},
     "output_type": "execute_result"
    }
   ],
   "source": [
    "# create contingency table for gaussian naive bayes mdoel\n",
    "cont_table = pd.crosstab(y_test['target'], y_pred,\n",
    "                        rownames = ['Actual'],\n",
    "                        colnames = ['Predicted']) \n",
    "# Create a total column\n",
    "cont_table['Total'] = cont_table.sum(axis = 1)\n",
    "cont_table.loc['Total'] = cont_table.sum()\n",
    "cont_table"
   ]
  },
  {
   "cell_type": "code",
   "execution_count": 55,
   "id": "concrete-might",
   "metadata": {},
   "outputs": [
    {
     "data": {
      "image/png": "[encoded data removed]",
      "text/plain": [
       "<Figure size 576x396 with 2 Axes>"
      ]
     },
     "metadata": {},
     "output_type": "display_data"
    }
   ],
   "source": [
    "# naive bayes confusion matrix plot\n",
    "conf_matrix = confusion_matrix(y_pred, y_test) \n",
    "# plot heat map\n",
    "sns.heatmap(conf_matrix, annot=True) \n",
    "plt.show()"
   ]
  },
  {
   "cell_type": "code",
   "execution_count": 56,
   "id": "964127da",
   "metadata": {},
   "outputs": [
    {
     "name": "stdout",
     "output_type": "stream",
     "text": [
      "Guassian Naive Bayes Model:\n",
      "Accuracy = 0.869\n",
      "Precision = 0.848\n",
      "Specificity = 0.833\n",
      "Sensitivity = 0.903\n",
      "F1-score = 0.875\n"
     ]
    }
   ],
   "source": [
    "#generating a report to extract the measure of interest using built-in sklearn function\n",
    "nb_report = classification_report(y_test,y_pred,digits=3,output_dict = True)\n",
    "\n",
    "print(\"Guassian Naive Bayes Model:\")\n",
    "print(\"Accuracy = {0:0.3f}\".format(nb_report[\"accuracy\"])) # accuracy\n",
    "print(\"Precision = {0:0.3f}\".format(nb_report[\"1.0\"][\"precision\"])) # precision\n",
    "print(\"Specificity = {0:0.3f}\".format(nb_report[\"0.0\"][\"recall\"])) # specificity \n",
    "print(\"Sensitivity = {0:0.3f}\".format(nb_report[\"1.0\"][\"recall\"])) # sensitivity\n",
    "print(\"F1-score = {0:0.3f}\".format(nb_report[\"1.0\"][\"f1-score\"])) # f1-score\n"
   ]
  },
  {
   "cell_type": "markdown",
   "id": "continuing-planet",
   "metadata": {},
   "source": [
    "#### 6.2 Logistic Regression Model "
   ]
  },
  {
   "cell_type": "code",
   "execution_count": 57,
   "id": "featured-proposal",
   "metadata": {},
   "outputs": [
    {
     "data": {
      "text/html": [
       "<div>\n",
       "<style scoped>\n",
       "    .dataframe tbody tr th:only-of-type {\n",
       "        vertical-align: middle;\n",
       "    }\n",
       "\n",
       "    .dataframe tbody tr th {\n",
       "        vertical-align: top;\n",
       "    }\n",
       "\n",
       "    .dataframe thead th {\n",
       "        text-align: right;\n",
       "    }\n",
       "</style>\n",
       "<table border=\"1\" class=\"dataframe\">\n",
       "  <thead>\n",
       "    <tr style=\"text-align: right;\">\n",
       "      <th>Predicted</th>\n",
       "      <th>0</th>\n",
       "      <th>1</th>\n",
       "      <th>Total</th>\n",
       "    </tr>\n",
       "    <tr>\n",
       "      <th>Actual</th>\n",
       "      <th></th>\n",
       "      <th></th>\n",
       "      <th></th>\n",
       "    </tr>\n",
       "  </thead>\n",
       "  <tbody>\n",
       "    <tr>\n",
       "      <th>0.0</th>\n",
       "      <td>28</td>\n",
       "      <td>2</td>\n",
       "      <td>30</td>\n",
       "    </tr>\n",
       "    <tr>\n",
       "      <th>1.0</th>\n",
       "      <td>8</td>\n",
       "      <td>23</td>\n",
       "      <td>31</td>\n",
       "    </tr>\n",
       "    <tr>\n",
       "      <th>Total</th>\n",
       "      <td>36</td>\n",
       "      <td>25</td>\n",
       "      <td>61</td>\n",
       "    </tr>\n",
       "  </tbody>\n",
       "</table>\n",
       "</div>"
      ],
      "text/plain": [
       "Predicted   0   1  Total\n",
       "Actual                  \n",
       "0.0        28   2     30\n",
       "1.0         8  23     31\n",
       "Total      36  25     61"
      ]
     },
     "execution_count": 57,
     "metadata": {},
     "output_type": "execute_result"
    }
   ],
   "source": [
    "# logistic regression contingency model\n",
    "cont_table_log = pd.crosstab(y_test_log['target'], y_pred_log,\n",
    "                        rownames = ['Actual'],\n",
    "                        colnames = ['Predicted']) \n",
    "# create a total column \n",
    "cont_table_log['Total'] = cont_table_log.sum(axis = 1)\n",
    "cont_table_log.loc['Total'] = cont_table_log.sum()\n",
    "cont_table_log"
   ]
  },
  {
   "cell_type": "code",
   "execution_count": 58,
   "id": "appreciated-transfer",
   "metadata": {},
   "outputs": [
    {
     "data": {
      "image/png": "[encoded data removed]",
      "text/plain": [
       "<Figure size 576x396 with 2 Axes>"
      ]
     },
     "metadata": {},
     "output_type": "display_data"
    }
   ],
   "source": [
    "# confusion matrix for log model\n",
    "conf_matrix_log = confusion_matrix(y_pred_log, y_test_log) \n",
    "# plot heat map\n",
    "sns.heatmap(conf_matrix_log, annot=True)\n",
    "plt.show()"
   ]
  },
  {
   "cell_type": "code",
   "execution_count": 59,
   "id": "revolutionary-accreditation",
   "metadata": {},
   "outputs": [
    {
     "name": "stdout",
     "output_type": "stream",
     "text": [
      "Logistic Regression Model:\n",
      "Accuracy = 0.836\n",
      "Precision = 0.920\n",
      "Specificity = 0.933\n",
      "Sensitivity = 0.742\n",
      "F1-score = 0.821\n"
     ]
    }
   ],
   "source": [
    "#generating a report to extract the measure of interest using built-in sklearn function\n",
    "log_report = classification_report(y_test_log,y_pred_log,digits=3,output_dict = True)\n",
    "\n",
    "print(\"Logistic Regression Model:\")\n",
    "print(\"Accuracy = {0:0.3f}\".format(log_report[\"accuracy\"])) # accuracy\n",
    "print(\"Precision = {0:0.3f}\".format(log_report[\"1.0\"][\"precision\"])) # precision \n",
    "print(\"Specificity = {0:0.3f}\".format(log_report[\"0.0\"][\"recall\"])) # specificity\n",
    "print(\"Sensitivity = {0:0.3f}\".format(log_report[\"1.0\"][\"recall\"])) # sensitivity (recall)\n",
    "print(\"F1-score = {0:0.3f}\".format(log_report[\"1.0\"][\"f1-score\"])) # f1 score\n"
   ]
  },
  {
   "cell_type": "markdown",
   "id": "scheduled-bishop",
   "metadata": {},
   "source": [
    "#### 6.3 Random Forest Model"
   ]
  },
  {
   "cell_type": "code",
   "execution_count": 60,
   "id": "authorized-harmony",
   "metadata": {},
   "outputs": [
    {
     "data": {
      "text/html": [
       "<div>\n",
       "<style scoped>\n",
       "    .dataframe tbody tr th:only-of-type {\n",
       "        vertical-align: middle;\n",
       "    }\n",
       "\n",
       "    .dataframe tbody tr th {\n",
       "        vertical-align: top;\n",
       "    }\n",
       "\n",
       "    .dataframe thead th {\n",
       "        text-align: right;\n",
       "    }\n",
       "</style>\n",
       "<table border=\"1\" class=\"dataframe\">\n",
       "  <thead>\n",
       "    <tr style=\"text-align: right;\">\n",
       "      <th>Predicted</th>\n",
       "      <th>0.0</th>\n",
       "      <th>1.0</th>\n",
       "      <th>Total</th>\n",
       "    </tr>\n",
       "    <tr>\n",
       "      <th>Actual</th>\n",
       "      <th></th>\n",
       "      <th></th>\n",
       "      <th></th>\n",
       "    </tr>\n",
       "  </thead>\n",
       "  <tbody>\n",
       "    <tr>\n",
       "      <th>0.0</th>\n",
       "      <td>23</td>\n",
       "      <td>7</td>\n",
       "      <td>30</td>\n",
       "    </tr>\n",
       "    <tr>\n",
       "      <th>1.0</th>\n",
       "      <td>4</td>\n",
       "      <td>27</td>\n",
       "      <td>31</td>\n",
       "    </tr>\n",
       "    <tr>\n",
       "      <th>Total</th>\n",
       "      <td>27</td>\n",
       "      <td>34</td>\n",
       "      <td>61</td>\n",
       "    </tr>\n",
       "  </tbody>\n",
       "</table>\n",
       "</div>"
      ],
      "text/plain": [
       "Predicted  0.0  1.0  Total\n",
       "Actual                    \n",
       "0.0         23    7     30\n",
       "1.0          4   27     31\n",
       "Total       27   34     61"
      ]
     },
     "execution_count": 60,
     "metadata": {},
     "output_type": "execute_result"
    }
   ],
   "source": [
    "# contingency table for random forest model\n",
    "cont_table_rf = pd.crosstab(y_test_rf['target'], y_pred_rf,\n",
    "                        rownames = ['Actual'],\n",
    "                        colnames = ['Predicted'])\n",
    "# Create a total column\n",
    "cont_table_rf['Total'] = cont_table_rf.sum(axis = 1)\n",
    "cont_table_rf.loc['Total'] = cont_table_rf.sum()\n",
    "cont_table_rf"
   ]
  },
  {
   "cell_type": "code",
   "execution_count": 61,
   "id": "arabic-giant",
   "metadata": {},
   "outputs": [
    {
     "data": {
      "image/png": "[encoded data removed]",
      "text/plain": [
       "<Figure size 576x396 with 2 Axes>"
      ]
     },
     "metadata": {},
     "output_type": "display_data"
    }
   ],
   "source": [
    "conf_matrix_rf = confusion_matrix(y_pred_rf, y_test_rf) # confusion matrix for random forest\n",
    "# Plot a heat map\n",
    "sns.heatmap(conf_matrix_rf, annot=True)\n",
    "plt.show()"
   ]
  },
  {
   "cell_type": "code",
   "execution_count": 62,
   "id": "institutional-italy",
   "metadata": {},
   "outputs": [
    {
     "name": "stdout",
     "output_type": "stream",
     "text": [
      "Random Forest Model:\n",
      "Accuracy = 0.820\n",
      "Precision = 0.794\n",
      "Specificity = 0.767\n",
      "Sensitivity = 0.871\n",
      "F1-score = 0.831\n"
     ]
    }
   ],
   "source": [
    "#generating a report to extract the measure of interest using built-in sklearn function\n",
    "rf_report = classification_report(y_test_rf,y_pred_rf,digits=3,output_dict = True)\n",
    "\n",
    "print(\"Random Forest Model:\")\n",
    "print(\"Accuracy = {0:0.3f}\".format(rf_report[\"accuracy\"])) # accuracy \n",
    "print(\"Precision = {0:0.3f}\".format(rf_report[\"1.0\"][\"precision\"])) # precision \n",
    "print(\"Specificity = {0:0.3f}\".format(rf_report[\"0.0\"][\"recall\"])) # specificity \n",
    "print(\"Sensitivity = {0:0.3f}\".format(rf_report[\"1.0\"][\"recall\"])) # sensitivity (recall)\n",
    "print(\"F1-score = {0:0.3f}\".format(rf_report[\"1.0\"][\"f1-score\"])) # f1-score\n"
   ]
  },
  {
   "cell_type": "markdown",
   "id": "coated-drawing",
   "metadata": {},
   "source": [
    "#### 6.4 Cross-Validation Scores"
   ]
  },
  {
   "cell_type": "markdown",
   "id": "interior-acoustic",
   "metadata": {},
   "source": [
    "#####  a) Gaussian Naive Bayes"
   ]
  },
  {
   "cell_type": "code",
   "execution_count": 63,
   "id": "approximate-spare",
   "metadata": {},
   "outputs": [
    {
     "name": "stdout",
     "output_type": "stream",
     "text": [
      "Guassian Naive Bayes' Average accuracy: 0.798\n",
      "Guassian Naive Bayes' Average precision: 0.792\n",
      "Guassian Naive Bayes' Average recall: 0.853\n"
     ]
    }
   ],
   "source": [
    "k = 10 # number of K folds\n",
    "\n",
    "# Cross-Validate \n",
    "cv = KFold(n_splits=10, random_state=1, shuffle=True)\n",
    "\n",
    "# evaluate model: gaussian naive bayes\n",
    "nb_acc = round(cross_val_score(nb, X, y, scoring='accuracy', cv=cv).mean(), 3) # kfold accuracy\n",
    "nb_precis = round(cross_val_score(nb, X, y, scoring='precision', cv=cv).mean(), 3) # kfold precision\n",
    "nb_recall = round(cross_val_score(nb, X, y, scoring='recall', cv=cv).mean(), 3) # kfold recall\n",
    "\n",
    "# report performance of average accuracy\n",
    "print(\"Guassian Naive Bayes' Average accuracy: {}\".format(nb_acc)) \n",
    "# report performance of average precision\n",
    "print(\"Guassian Naive Bayes' Average precision: {}\".format(nb_precis))\n",
    "# report performance of average recall\n",
    "print(\"Guassian Naive Bayes' Average recall: {}\".format(nb_recall))"
   ]
  },
  {
   "cell_type": "markdown",
   "id": "joint-phone",
   "metadata": {},
   "source": [
    "##### b) Logistic Regression Model"
   ]
  },
  {
   "cell_type": "code",
   "execution_count": 64,
   "id": "earned-hawaii",
   "metadata": {},
   "outputs": [
    {
     "name": "stdout",
     "output_type": "stream",
     "text": [
      "Logistic Regression's Average accuracy: 0.835\n",
      "Logistic Regression's Average precision: 0.828\n",
      "Logistic Regression's Average recall: 0.87\n"
     ]
    }
   ],
   "source": [
    "k = 10 # number of K folds\n",
    "\n",
    "# Cross-Validate \n",
    "cv = KFold(n_splits=10, random_state=1, shuffle=True)\n",
    "\n",
    "# evaluate model: logistic regression\n",
    "log_acc = round(cross_val_score(logit, X, y, scoring='accuracy', cv=cv).mean(), 3) # kfold accuracy\n",
    "log_precis = round(cross_val_score(logit, X, y, scoring='precision', cv=cv).mean(), 3) # kfold precision\n",
    "log_recall = round(cross_val_score(logit, X, y, scoring='recall', cv=cv).mean(), 3) # kfold recall\n",
    "\n",
    "# report performance of average accuracy\n",
    "print(\"Logistic Regression's Average accuracy: {}\".format(log_acc))\n",
    "# report performance of average precision\n",
    "print(\"Logistic Regression's Average precision: {}\".format(log_precis))\n",
    "# report performance of average recall\n",
    "print(\"Logistic Regression's Average recall: {}\".format(log_recall))"
   ]
  },
  {
   "cell_type": "markdown",
   "id": "parental-engagement",
   "metadata": {},
   "source": [
    "##### c) Random Forest Model"
   ]
  },
  {
   "cell_type": "code",
   "execution_count": 65,
   "id": "legal-gates",
   "metadata": {},
   "outputs": [
    {
     "name": "stdout",
     "output_type": "stream",
     "text": [
      "Random Forest's Average accuracy: 0.808\n",
      "Random Forest's Average precision: 0.806\n",
      "Random Forest's Average recall: 0.844\n"
     ]
    }
   ],
   "source": [
    "k = 10 # number of K folds\n",
    "\n",
    "# Cross-Validate \n",
    "cv = KFold(n_splits=10, random_state=1, shuffle=True)\n",
    "\n",
    "# evaluate model: random forest\n",
    "rf_acc = round(cross_val_score(rf, X, y, scoring='accuracy', cv=cv).mean(), 3) # kfold accuracy\n",
    "rf_precis = round(cross_val_score(rf, X, y, scoring='precision', cv=cv).mean(), 3) # kfold precision\n",
    "rf_recall = round(cross_val_score(rf, X, y, scoring='recall', cv=cv).mean(), 3) # kfold recall\n",
    "\n",
    "# report performance of average accuracy\n",
    "print(\"Random Forest's Average accuracy: {}\".format(rf_acc))\n",
    "# report performance of average precision\n",
    "print(\"Random Forest's Average precision: {}\".format(rf_precis))\n",
    "# report performance of average recall\n",
    "print(\"Random Forest's Average recall: {}\".format(rf_recall))"
   ]
  },
  {
   "cell_type": "markdown",
   "id": "aa236179",
   "metadata": {},
   "source": [
    "#### 6.5 Evaluation measure of All Models"
   ]
  },
  {
   "cell_type": "code",
   "execution_count": 66,
   "id": "0dea815f",
   "metadata": {},
   "outputs": [],
   "source": [
    "def eval_report(report):\n",
    "    '''\n",
    "    Calculate Accuracy, error-rate, recall, specificity,\n",
    "    precision, f1, f2, and f 0.5 score for model reports as input\n",
    "    and return the evaluation metrics as a list\n",
    "    '''\n",
    "    accuracy = round(report[\"accuracy\"],3) # accuracy\n",
    "    error_rate = round(1 - accuracy,3) # error rate\n",
    "    sensitivity = round(report[\"1.0\"][\"recall\"],3) # recall\n",
    "    specificity = round(report[\"0.0\"][\"recall\"],3) # specificity\n",
    "    precision = round(report[\"1.0\"][\"precision\"],3) # precision\n",
    "    f1 = round(report[\"1.0\"][\"f1-score\"],3) # f1 score\n",
    "    f2 = round(5 * ((precision * sensitivity)/ ((4 * precision) + sensitivity)),3) # f2  score\n",
    "    f05 = round(1.25 * ((precision * sensitivity)/ ((0.25 * precision) + sensitivity)),3) # f 0.5 score\n",
    "    return [accuracy, error_rate, sensitivity, specificity, precision, f1, f2, f05] # return everything as a list\n"
   ]
  },
  {
   "cell_type": "code",
   "execution_count": 67,
   "id": "9b081c09",
   "metadata": {},
   "outputs": [
    {
     "data": {
      "text/html": [
       "<div>\n",
       "<style scoped>\n",
       "    .dataframe tbody tr th:only-of-type {\n",
       "        vertical-align: middle;\n",
       "    }\n",
       "\n",
       "    .dataframe tbody tr th {\n",
       "        vertical-align: top;\n",
       "    }\n",
       "\n",
       "    .dataframe thead th {\n",
       "        text-align: right;\n",
       "    }\n",
       "</style>\n",
       "<table border=\"1\" class=\"dataframe\">\n",
       "  <thead>\n",
       "    <tr style=\"text-align: right;\">\n",
       "      <th></th>\n",
       "      <th>Evaluation Measure</th>\n",
       "      <th>Gaussian Naive Bayes</th>\n",
       "      <th>Logistic Regression</th>\n",
       "      <th>Random Forest</th>\n",
       "    </tr>\n",
       "  </thead>\n",
       "  <tbody>\n",
       "    <tr>\n",
       "      <th>0</th>\n",
       "      <td>Accuracy</td>\n",
       "      <td>0.869</td>\n",
       "      <td>0.836</td>\n",
       "      <td>0.820</td>\n",
       "    </tr>\n",
       "    <tr>\n",
       "      <th>1</th>\n",
       "      <td>Error Rate</td>\n",
       "      <td>0.131</td>\n",
       "      <td>0.164</td>\n",
       "      <td>0.180</td>\n",
       "    </tr>\n",
       "    <tr>\n",
       "      <th>2</th>\n",
       "      <td>Sensitivity</td>\n",
       "      <td>0.903</td>\n",
       "      <td>0.742</td>\n",
       "      <td>0.871</td>\n",
       "    </tr>\n",
       "    <tr>\n",
       "      <th>3</th>\n",
       "      <td>Specificity</td>\n",
       "      <td>0.833</td>\n",
       "      <td>0.933</td>\n",
       "      <td>0.767</td>\n",
       "    </tr>\n",
       "    <tr>\n",
       "      <th>4</th>\n",
       "      <td>Precision</td>\n",
       "      <td>0.848</td>\n",
       "      <td>0.920</td>\n",
       "      <td>0.794</td>\n",
       "    </tr>\n",
       "    <tr>\n",
       "      <th>5</th>\n",
       "      <td>F1</td>\n",
       "      <td>0.875</td>\n",
       "      <td>0.821</td>\n",
       "      <td>0.831</td>\n",
       "    </tr>\n",
       "    <tr>\n",
       "      <th>6</th>\n",
       "      <td>F2</td>\n",
       "      <td>0.891</td>\n",
       "      <td>0.772</td>\n",
       "      <td>0.854</td>\n",
       "    </tr>\n",
       "    <tr>\n",
       "      <th>7</th>\n",
       "      <td>F 0.5</td>\n",
       "      <td>0.858</td>\n",
       "      <td>0.878</td>\n",
       "      <td>0.808</td>\n",
       "    </tr>\n",
       "  </tbody>\n",
       "</table>\n",
       "</div>"
      ],
      "text/plain": [
       "  Evaluation Measure  Gaussian Naive Bayes  Logistic Regression  Random Forest\n",
       "0           Accuracy                 0.869                0.836          0.820\n",
       "1         Error Rate                 0.131                0.164          0.180\n",
       "2        Sensitivity                 0.903                0.742          0.871\n",
       "3        Specificity                 0.833                0.933          0.767\n",
       "4          Precision                 0.848                0.920          0.794\n",
       "5                 F1                 0.875                0.821          0.831\n",
       "6                 F2                 0.891                0.772          0.854\n",
       "7              F 0.5                 0.858                0.878          0.808"
      ]
     },
     "execution_count": 67,
     "metadata": {},
     "output_type": "execute_result"
    }
   ],
   "source": [
    "eval_measure = ['Accuracy','Error Rate', 'Sensitivity', \n",
    "                'Specificity', 'Precision', 'F1', 'F2', 'F 0.5'] # first column as metrics\n",
    "nb_measure = eval_report(nb_report) # gnb model \n",
    "log_measure = eval_report(log_report) # logistic regression model\n",
    "rf_measure = eval_report(rf_report) # random forest model \n",
    "\n",
    "\n",
    "# store everything together as a list\n",
    "models_eval = {\"Evaluation Measure\":eval_measure, \"Gaussian Naive Bayes\":nb_measure,\n",
    "              \"Logistic Regression\": log_measure, \n",
    "              \"Random Forest\": rf_measure}\n",
    "# Convert it into a data frame\n",
    "models_eval_df = pd.DataFrame(models_eval)\n",
    "models_eval_df"
   ]
  },
  {
   "cell_type": "markdown",
   "id": "psychological-protection",
   "metadata": {},
   "source": [
    "#### 6.6 10 K-fold Performance Metrics of All Classifiers"
   ]
  },
  {
   "cell_type": "code",
   "execution_count": 68,
   "id": "575accf5",
   "metadata": {},
   "outputs": [
    {
     "data": {
      "text/html": [
       "<div>\n",
       "<style scoped>\n",
       "    .dataframe tbody tr th:only-of-type {\n",
       "        vertical-align: middle;\n",
       "    }\n",
       "\n",
       "    .dataframe tbody tr th {\n",
       "        vertical-align: top;\n",
       "    }\n",
       "\n",
       "    .dataframe thead th {\n",
       "        text-align: right;\n",
       "    }\n",
       "</style>\n",
       "<table border=\"1\" class=\"dataframe\">\n",
       "  <thead>\n",
       "    <tr style=\"text-align: right;\">\n",
       "      <th></th>\n",
       "      <th>Models</th>\n",
       "      <th>Kfold Accuracy</th>\n",
       "      <th>Kfold Precision</th>\n",
       "      <th>Kfold Recall</th>\n",
       "    </tr>\n",
       "  </thead>\n",
       "  <tbody>\n",
       "    <tr>\n",
       "      <th>0</th>\n",
       "      <td>GaussianNB</td>\n",
       "      <td>0.798</td>\n",
       "      <td>0.792</td>\n",
       "      <td>0.853</td>\n",
       "    </tr>\n",
       "    <tr>\n",
       "      <th>1</th>\n",
       "      <td>Logistic Regression</td>\n",
       "      <td>0.835</td>\n",
       "      <td>0.828</td>\n",
       "      <td>0.870</td>\n",
       "    </tr>\n",
       "    <tr>\n",
       "      <th>2</th>\n",
       "      <td>Random Forest</td>\n",
       "      <td>0.808</td>\n",
       "      <td>0.806</td>\n",
       "      <td>0.844</td>\n",
       "    </tr>\n",
       "  </tbody>\n",
       "</table>\n",
       "</div>"
      ],
      "text/plain": [
       "                Models  Kfold Accuracy  Kfold Precision  Kfold Recall\n",
       "0           GaussianNB           0.798            0.792         0.853\n",
       "1  Logistic Regression           0.835            0.828         0.870\n",
       "2        Random Forest           0.808            0.806         0.844"
      ]
     },
     "execution_count": 68,
     "metadata": {},
     "output_type": "execute_result"
    }
   ],
   "source": [
    "# Aggregate all models and their respective 10 Kfolds evaluation metrics\n",
    "models_kfolds = {\"Models\":['GaussianNB', 'Logistic Regression', 'Random Forest'],\n",
    "              \"Kfold Accuracy\": [nb_acc, log_acc, rf_acc],\n",
    "               \"Kfold Precision\":[nb_precis, log_precis, rf_precis],\n",
    "               \"Kfold Recall\": [nb_recall, log_recall, rf_recall]\n",
    "              }\n",
    "\n",
    "models_df = pd.DataFrame(models_kfolds)\n",
    "models_df"
   ]
  },
  {
   "cell_type": "code",
   "execution_count": 69,
   "id": "interesting-season",
   "metadata": {},
   "outputs": [
    {
     "data": {
      "image/png": "[encoded data removed]",
      "text/plain": [
       "<Figure size 576x396 with 1 Axes>"
      ]
     },
     "metadata": {},
     "output_type": "display_data"
    }
   ],
   "source": [
    "# visualizing accuracies for all ML Algorithms \n",
    "models = ('GaussianNB', 'Logistic Regression', 'Random Forest') # list of models\n",
    "x_pos = np.arange(len(models)) #x position\n",
    "accs = [nb_acc, log_acc, rf_acc] # accuracies\n",
    "\n",
    "# Plot plot bar of 10-kfolds cross validation mean accuracy\n",
    "sns.barplot(x_pos, accs) \n",
    "plt.xticks(x_pos, models)\n",
    "plt.ylabel('Mean Accuracy(%)')\n",
    "plt.title('10 K-folds Cross-validation: Accuracy')\n",
    "plt.show()"
   ]
  },
  {
   "cell_type": "code",
   "execution_count": 70,
   "id": "7e99b316",
   "metadata": {},
   "outputs": [
    {
     "data": {
      "image/png": "[encoded data removed]",
      "text/plain": [
       "<Figure size 576x396 with 1 Axes>"
      ]
     },
     "metadata": {},
     "output_type": "display_data"
    }
   ],
   "source": [
    "# visualizing accuracies for all ML Algorithms \n",
    "models = ('GaussianNB', 'Logistic Regression', 'Random Forest') # list of models\n",
    "x_pos = np.arange(len(models)) # x positions\n",
    "precis = [nb_precis, log_precis, rf_precis] # mean precisions\n",
    "\n",
    "# Plot a bar chart of 10 k-fold cross-validaiton of precision for all models\n",
    "sns.barplot(x_pos, precis)\n",
    "plt.xticks(x_pos, models)\n",
    "plt.ylabel('Mean Precision (%)')\n",
    "plt.title('10 K-folds Cross-validation: Precision')\n",
    "plt.show()"
   ]
  },
  {
   "cell_type": "code",
   "execution_count": 71,
   "id": "82466542",
   "metadata": {},
   "outputs": [
    {
     "data": {
      "image/png": "[encoded data removed]",
      "text/plain": [
       "<Figure size 576x396 with 1 Axes>"
      ]
     },
     "metadata": {},
     "output_type": "display_data"
    }
   ],
   "source": [
    "# visualizing accuracies for all ML Algorithms \n",
    "models = ('GaussianNB', 'Logistic Regression', 'Random Forest') # list of models\n",
    "x_pos = np.arange(len(models)) # x positions by int\n",
    "recall = [nb_recall, log_recall, rf_recall] # list of mean recalls \n",
    "\n",
    "# Plot a bar graph of 10 K-folds cross validation for mean recall\n",
    "sns.barplot(x_pos, recall)\n",
    "plt.xticks(x_pos, models)\n",
    "plt.ylabel('Mean Recall (%)')\n",
    "plt.title('10 K-folds Cross-validation: Recall')\n",
    "plt.show()"
   ]
  },
  {
   "cell_type": "markdown",
   "id": "biological-poster",
   "metadata": {},
   "source": [
    "#### 6.7 AUC-ROC Curve for all Models"
   ]
  },
  {
   "cell_type": "code",
   "execution_count": 72,
   "id": "identified-folks",
   "metadata": {},
   "outputs": [
    {
     "data": {
      "image/png": "[encoded data removed]",
      "text/plain": [
       "<Figure size 720x360 with 1 Axes>"
      ]
     },
     "metadata": {},
     "output_type": "display_data"
    },
    {
     "name": "stdout",
     "output_type": "stream",
     "text": [
      "Gaussian Naive Bayes ROC curve: AUC=0.920\n",
      "Logistic Regression ROC curve: AUC=0.935\n",
      "Random Forest ROC curve: AUC=0.913\n"
     ]
    }
   ],
   "source": [
    "#Plotting the ROC curve\n",
    "\n",
    "#Generating points to plot on ROC curve - Gaussian Naive Bayes\n",
    "nb_pred_prob = nb.predict_proba(X_test)\n",
    "fpr_nb, tpr_nb, thresholds_nb = roc_curve(y_test, nb_pred_prob[:,1])\n",
    "\n",
    "#Generating points to plot on ROC curve - Logistic Regression\n",
    "log_pred_prob = logit.predict_proba(X_test_log)\n",
    "fpr_log, tpr_log, thresholds_log = roc_curve(y_test_log, log_pred_prob[:,1])\n",
    "\n",
    "#Generating points to plot on ROC curve - Random Forest\n",
    "rf_pred_prob = rf.predict_proba(X_test_rf)\n",
    "fpr_rf, tpr_rf, thresholds_rf = roc_curve(y_test_rf, rf_pred_prob[:,1])\n",
    "\n",
    "\n",
    "# Plot AUC-ROC Curve for each model \n",
    "sns.set_style('whitegrid')\n",
    "plt.figure(figsize=(10,5))\n",
    "plt.title('AUC-ROC Curve for All Models')\n",
    "plt.plot(fpr_nb, tpr_nb,label='Gaussian Naive Bayes') # Gaussian Naive Bayes Model\n",
    "plt.plot(fpr_log,tpr_log,label='Logistic Regression') # Logistic Regression Model\n",
    "plt.plot(fpr_rf, tpr_rf,label='Random Forest') # Random Forest Model\n",
    "plt.plot([0,1],ls='--')\n",
    "plt.plot([0,0],[1,0],c='.5')\n",
    "plt.plot([1,1],c='.5')\n",
    "plt.ylabel('True positive rate')\n",
    "plt.xlabel('False positive rate')\n",
    "plt.legend()\n",
    "plt.show()\n",
    "\n",
    "print('Gaussian Naive Bayes ROC curve: AUC={0:0.3f}'.format(roc_auc_score(y_test,nb_pred_prob[:,1]))) # Naive Bayes AUC-ROC Accuracy\n",
    "print('Logistic Regression ROC curve: AUC={0:0.3f}'.format(roc_auc_score(y_test_log,log_pred_prob[:,1]))) # Logistic Reression Accuracy\n",
    "print('Random Forest ROC curve: AUC={0:0.3f}'.format(roc_auc_score(y_test_rf,rf_pred_prob[:,1]))) # Random Forest AUC-ROC Accuracy"
   ]
  }
 ],
 "metadata": {
  "kernelspec": {
   "display_name": "Python [conda env:USD] *",
   "language": "python",
   "name": "conda-env-USD-py"
  },
  "language_info": {
   "codemirror_mode": {
    "name": "ipython",
    "version": 3
   },
   "file_extension": ".py",
   "mimetype": "text/x-python",
   "name": "python",
   "nbconvert_exporter": "python",
   "pygments_lexer": "ipython3",
   "version": "3.7.9"
  }
 },
 "nbformat": 4,
 "nbformat_minor": 5
}
